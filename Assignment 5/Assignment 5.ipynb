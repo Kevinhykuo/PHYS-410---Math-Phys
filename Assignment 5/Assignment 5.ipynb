{
 "cells": [
  {
   "cell_type": "markdown",
   "metadata": {},
   "source": [
    "# Assigment 5"
   ]
  },
  {
   "cell_type": "code",
   "execution_count": 34,
   "metadata": {},
   "outputs": [],
   "source": [
    "import sympy as sym \n",
    "\n",
    "from sympy import Derivative, factorial, symbols, simplify, cos, sin\n",
    "from sympy.matrices import SparseMatrix\n",
    "from sympy.physics.mechanics import *\n",
    "from sympy.physics.quantum import Commutator, Dagger, Operator\n",
    "\n",
    "from IPython.display import Math, display\n",
    "init_vprinting()"
   ]
  },
  {
   "cell_type": "markdown",
   "metadata": {},
   "source": [
    "## Exponentials of operators"
   ]
  },
  {
   "cell_type": "markdown",
   "metadata": {},
   "source": [
    "### a) \n",
    "We know: $$e^\\alpha = \\sum_{n=0}^{n=\\infty} \\frac{\\alpha^n}{n!} = 1 + \\alpha + \\frac{\\alpha^2}{2!} + \\frac{\\alpha^3}{3!} + \\cdots$$\n",
    "\n",
    "We can apply this to operators too: \n",
    "$$e^A = \\sum_{n=0}^{n=\\infty} \\frac{A^n}{n!} = I + A + \\frac{A^2}{2!} + \\frac{A^3}{3!} + \\cdots$$\n",
    "\n",
    "$$\\therefore e^A B e^{-A} = \\left[\\sum_{n=0}^{n=\\infty} \\frac{A^n}{n!}\\right] B \\left[\\sum_{n=0}^{n=\\infty} (-1)^n \\frac{A^n}{n!}\\right] = \\left[I + A + \\frac{A^2}{2!} + \\frac{A^3}{3!} + \\cdots \\right] B \\left[I - A + \\frac{A^2}{2!} - \\frac{A^3}{3!} + \\cdots \\right]$$\n",
    "\n",
    "Now let's use Sympy to expand and simplify this: "
   ]
  },
  {
   "cell_type": "code",
   "execution_count": 27,
   "metadata": {},
   "outputs": [],
   "source": [
    "A = Operator('A')\n",
    "B = Operator('B')"
   ]
  },
  {
   "cell_type": "code",
   "execution_count": 52,
   "metadata": {},
   "outputs": [],
   "source": [
    "def exp_taylor(operator=A, terms=5):\n",
    "    e = 0\n",
    "    for n in range(0, terms):\n",
    "        e += operator**n / factorial(n)\n",
    "    return e"
   ]
  },
  {
   "cell_type": "markdown",
   "metadata": {},
   "source": [
    "For 5 terms: \n",
    "\n",
    "$e^A B e^{-A} =$"
   ]
  },
  {
   "cell_type": "code",
   "execution_count": 60,
   "metadata": {},
   "outputs": [
    {
     "data": {
      "image/png": "[encoded data removed]",
      "text/latex": [
       "$$A B - A B A + \\frac{A B A^{2}}{2} - \\frac{A B A^{3}}{6} + \\frac{A B A^{4}}{24} + \\frac{A^{2} B}{2} - \\frac{A^{2} B A}{2} + \\frac{A^{2} B A^{2}}{4} - \\frac{A^{2} B A^{3}}{12} + \\frac{A^{2} B A^{4}}{48} + \\frac{A^{3} B}{6} - \\frac{A^{3} B A}{6} + \\frac{A^{3} B A^{2}}{12} - \\frac{A^{3} B A^{3}}{36} + \\frac{A^{3} B A^{4}}{144} + \\frac{A^{4} B}{24} - \\frac{A^{4} B A}{24} + \\frac{A^{4} B A^{2}}{48} - \\frac{A^{4} B A^{3}}{144} + \\frac{A^{4} B A^{4}}{576} + B - B A + \\frac{B A^{2}}{2} - \\frac{B A^{3}}{6} + \\frac{B A^{4}}{24}$$"
      ],
      "text/plain": [
       "                   2        3        4    2      2        2    2    2    3    \n",
       "              A⋅B⋅A    A⋅B⋅A    A⋅B⋅A    A ⋅B   A ⋅B⋅A   A ⋅B⋅A    A ⋅B⋅A    A\n",
       "A⋅B - A⋅B⋅A + ────── - ────── + ────── + ──── - ────── + ─────── - ─────── + ─\n",
       "                2        6        24      2       2         4         12      \n",
       "\n",
       "2    4    3      3        3    2    3    3    3    4    4      4        4    2\n",
       " ⋅B⋅A    A ⋅B   A ⋅B⋅A   A ⋅B⋅A    A ⋅B⋅A    A ⋅B⋅A    A ⋅B   A ⋅B⋅A   A ⋅B⋅A \n",
       "────── + ──── - ────── + ─────── - ─────── + ─────── + ──── - ────── + ───────\n",
       "  48      6       6         12        36       144      24      24        48  \n",
       "\n",
       "    4    3    4    4                2      3      4\n",
       "   A ⋅B⋅A    A ⋅B⋅A              B⋅A    B⋅A    B⋅A \n",
       " - ─────── + ─────── + B - B⋅A + ──── - ──── + ────\n",
       "     144       576                2      6      24 "
      ]
     },
     "execution_count": 60,
     "metadata": {},
     "output_type": "execute_result"
    }
   ],
   "source": [
    "(exp_taylor(A) * B * exp_taylor(operator=(-A))).expand().collect(2)"
   ]
  },
  {
   "cell_type": "code",
   "execution_count": 23,
   "metadata": {},
   "outputs": [],
   "source": [
    "exp_taylor(A)"
   ]
  },
  {
   "cell_type": "code",
   "execution_count": null,
   "metadata": {},
   "outputs": [],
   "source": []
  }
 ],
 "metadata": {
  "kernelspec": {
   "display_name": "Python 3",
   "language": "python",
   "name": "python3"
  },
  "language_info": {
   "codemirror_mode": {
    "name": "ipython",
    "version": 3
   },
   "file_extension": ".py",
   "mimetype": "text/x-python",
   "name": "python",
   "nbconvert_exporter": "python",
   "pygments_lexer": "ipython3",
   "version": "3.7.1"
  }
 },
 "nbformat": 4,
 "nbformat_minor": 2
}
