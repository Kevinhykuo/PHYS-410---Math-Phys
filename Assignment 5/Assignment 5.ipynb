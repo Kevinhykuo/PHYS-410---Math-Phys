{
 "cells": [
  {
   "cell_type": "markdown",
   "metadata": {},
   "source": [
    "# Assigment 5"
   ]
  },
  {
   "cell_type": "code",
   "execution_count": 1,
   "metadata": {},
   "outputs": [],
   "source": [
    "import sympy as sym \n",
    "\n",
    "from sympy import Derivative, factorial, symbols, simplify, cos, sin, sqrt, DiracDelta, I, Rational\n",
    "from sympy.matrices import SparseMatrix\n",
    "from sympy.physics.mechanics import *\n",
    "from sympy.physics.quantum import Commutator, Dagger, Operator\n",
    "\n",
    "from IPython.display import Math, display\n",
    "init_vprinting()"
   ]
  },
  {
   "cell_type": "markdown",
   "metadata": {},
   "source": [
    "## Exponentials of operators"
   ]
  },
  {
   "cell_type": "code",
   "execution_count": 2,
   "metadata": {},
   "outputs": [],
   "source": [
    "A = Operator('A')\n",
    "B = Operator('B')\n",
    "alpha = symbols('alpha')"
   ]
  },
  {
   "cell_type": "code",
   "execution_count": 3,
   "metadata": {},
   "outputs": [],
   "source": [
    "def exp_taylor(operator=A, terms=4):\n",
    "    e = 0\n",
    "    for n in range(0, terms):\n",
    "        e += operator**n / factorial(n)\n",
    "    return e\n",
    "\n",
    "def Q1a_expand(operator=A, terms=4, bookkeeping=alpha):\n",
    "    Op_Al = operator*alpha\n",
    "    Out = exp_taylor(Op_Al, terms) * B * exp_taylor(-Op_Al, terms)\n",
    "    return Out.expand().collect(alpha)"
   ]
  },
  {
   "cell_type": "markdown",
   "metadata": {},
   "source": [
    "### a) \n",
    "We know: $$e^\\alpha = \\sum_{n=0}^{n=\\infty} \\frac{\\alpha^n}{n!} = 1 + \\alpha + \\frac{\\alpha^2}{2!} + \\frac{\\alpha^3}{3!} + \\cdots$$\n",
    "\n",
    "We can apply this to operators too: \n",
    "$$e^A = \\sum_{n=0}^{n=\\infty} \\frac{A^n}{n!} = I + A + \\frac{A^2}{2!} + \\frac{A^3}{3!} + \\cdots$$\n",
    "\n",
    "$$\\therefore e^A B e^{-A} = \\left[\\sum_{n=0}^{n=\\infty} \\frac{A^n}{n!}\\right] B \\left[\\sum_{n=0}^{n=\\infty} (-1)^n \\frac{A^n}{n!}\\right] = \\left[I + A + \\frac{A^2}{2!} + \\frac{A^3}{3!} + \\cdots \\right] B \\left[I - A + \\frac{A^2}{2!} - \\frac{A^3}{3!} + \\cdots \\right]$$\n",
    "\n",
    "Now let's use Sympy to expand and simplify this: "
   ]
  },
  {
   "cell_type": "markdown",
   "metadata": {},
   "source": [
    "Let's introduce bookkeeping term $\\alpha$ into the exponentials.\n",
    "\n",
    "For 4 terms: \n",
    "\n",
    "$e^{\\alpha A} B e^{-\\alpha A} =$"
   ]
  },
  {
   "cell_type": "code",
   "execution_count": 4,
   "metadata": {},
   "outputs": [
    {
     "data": {
      "image/png": "[encoded data removed]",
      "text/latex": [
       "$$- \\frac{\\alpha^{6} A^{3} B A^{3}}{36} + \\alpha^{5} \\left(- \\frac{A^{2} B A^{3}}{12} + \\frac{A^{3} B A^{2}}{12}\\right) + \\alpha^{4} \\left(- \\frac{A B A^{3}}{6} + \\frac{A^{2} B A^{2}}{4} - \\frac{A^{3} B A}{6}\\right) + \\alpha^{3} \\left(\\frac{A B A^{2}}{2} - \\frac{A^{2} B A}{2} + \\frac{A^{3} B}{6} - \\frac{B A^{3}}{6}\\right) + \\alpha^{2} \\left(- A B A + \\frac{A^{2} B}{2} + \\frac{B A^{2}}{2}\\right) + \\alpha \\left(A B - B A\\right) + B$$"
      ],
      "text/plain": [
       "   6  3    3      ⎛   2    3    3    2⎞      ⎛       3    2    2    3    ⎞    \n",
       "  α ⋅A ⋅B⋅A     5 ⎜  A ⋅B⋅A    A ⋅B⋅A ⎟    4 ⎜  A⋅B⋅A    A ⋅B⋅A    A ⋅B⋅A⎟    \n",
       "- ────────── + α ⋅⎜- ─────── + ───────⎟ + α ⋅⎜- ────── + ─────── - ──────⎟ + α\n",
       "      36          ⎝     12        12  ⎠      ⎝    6         4        6   ⎠    \n",
       "\n",
       "  ⎛     2    2        3        3⎞      ⎛          2        2⎞                 \n",
       "3 ⎜A⋅B⋅A    A ⋅B⋅A   A ⋅B   B⋅A ⎟    2 ⎜         A ⋅B   B⋅A ⎟                 \n",
       " ⋅⎜────── - ────── + ──── - ────⎟ + α ⋅⎜-A⋅B⋅A + ──── + ────⎟ + α⋅(A⋅B - B⋅A) \n",
       "  ⎝  2        2       6      6  ⎠      ⎝          2      2  ⎠                 \n",
       "\n",
       "   \n",
       "   \n",
       "+ B\n",
       "   "
      ]
     },
     "execution_count": 4,
     "metadata": {},
     "output_type": "execute_result"
    }
   ],
   "source": [
    "Q1a_expand(terms=4)"
   ]
  },
  {
   "cell_type": "markdown",
   "metadata": {},
   "source": [
    "$\\alpha$ is just a bookkeeping term, so let $\\alpha = 1$ \n",
    "\n",
    "$\\therefore e^{A} B e^{A}$\n",
    "\n",
    "$= B + (AB-BA) + \\left[-ABA + \\frac{1}{2}(A^2B + BA^2)\\right] + \\frac{1}{2}\\left[ABA^2 - A^2BA + \\frac{1}{6}(A^3B - BA^3) \\right] + \\cdots$\n",
    "\n",
    "$= B + [A, B] + \\frac{1}{2!}[A^2B - 2ABA + BA^2] + \\frac{1}{3!}[A^3B - 3A^2BA + 3ABA^2 - BA^3] + \\cdots$\n",
    "\n",
    "$= B + [A, B] + \\frac{1}{2!}[A^2B - ABA - ABA + BA^2] + \\frac{1}{3!}[A^3B - 3A^2BA + 3ABA^2 - BA^3] + \\cdots$\n",
    "\n",
    "$= B + [A, B] + \\frac{1}{2!}[A, (AB-BA)] + \\frac{1}{3!}[A^3B - 2A^2BA + ABA^2 - A^2BA + 2ABA^2 - BA^3] + \\cdots$\n",
    "\n",
    "$= B + [A, B] + \\frac{1}{2!}[A, [A, B]] + \\frac{1}{3!}[A, A^2B - 2BAB + BA^2] + \\cdots$\n",
    "\n",
    "$= B + [A, B] + \\frac{1}{2!}[A, [A, B]] + \\frac{1}{3!}[A, [A, [A,B]]] + \\cdots$"
   ]
  },
  {
   "cell_type": "markdown",
   "metadata": {},
   "source": [
    "## Rotation algebra \n",
    "### b) \n",
    "\n",
    "$$J_x = \\frac{1}{2}(J_+ + J_-)$$\n",
    "\n",
    "$$J_y = \\frac{1}{2i}(J_+ - J_-)$$\n",
    "\n",
    "$$[J_k, J_l] = i \\varepsilon_{klm}J_m \\Rightarrow [J_x, J_y] = i J_z \\Rightarrow J_z = -i(J_x J_y - J_y J_x)$$\n",
    "\n",
    "$(J_x)_{m_1, m_2}$ \n",
    "\n",
    "$= \\left\\langle j, m_1 \\right| J_x \\left| j, m_2 \\right\\rangle$\n",
    "\n",
    "$= \\frac{1}{2} \\left\\langle j, m_1 \\right| J_+ + J_- \\left| j, m_2 \\right\\rangle$\n",
    "\n",
    "$= \\frac{1}{2} \\left\\langle j, m_1 \\right| [j(j+1)-m_2(m_2+1)]^\\frac{1}{2} \\left| j, m_2 +1 \\right\\rangle + \\frac{1}{2} \\left\\langle j, m_1 \\right| [j(j+1)-m_2(m_2-1)]^\\frac{1}{2} \\left| j, m_2-1 \\right\\rangle$\n",
    "\n",
    "$= \\frac{1}{2} [j(j+1)-m_2(m_2+1)]^\\frac{1}{2} \\delta_{m_1, m_2+1} + \\frac{1}{2} [j(j+1)-m_2(m_2-1)]^\\frac{1}{2} \\delta_{m_1, m_2-1}$\n",
    "\n",
    "\n",
    "$(J_y)_{m_1, m_2}$ \n",
    "\n",
    "$= \\left\\langle j, m_1 \\right| J_x \\left| j, m_2 \\right\\rangle$\n",
    "\n",
    "$= \\frac{1}{2i} \\left\\langle j, m_1 \\right| J_+ - J_- \\left| j, m_2 \\right\\rangle$\n",
    "\n",
    "$= \\frac{1}{2i} \\left\\langle j, m_1 \\right| [j(j+1)-m_2(m_2+1)]^\\frac{1}{2} \\left| j, m_2 +1 \\right\\rangle - \\frac{1}{2i} \\left\\langle j, m_1 \\right| [j(j+1)-m_2(m_2-1)]^\\frac{1}{2} \\left| j, m_2-1 \\right\\rangle$\n",
    "\n",
    "$= \\frac{1}{2i} [j(j+1)-m_2(m_2+1)]^\\frac{1}{2} \\delta_{m_1, m_2+1} - \\frac{1}{2i} [j(j+1)-m_2(m_2-1)]^\\frac{1}{2} \\delta_{m_1, m_2-1}$"
   ]
  },
  {
   "cell_type": "code",
   "execution_count": 42,
   "metadata": {},
   "outputs": [],
   "source": [
    "def dirac_delta(x, y):\n",
    "    if x-y == 0:\n",
    "        dd = 1\n",
    "    else:\n",
    "        dd = 0\n",
    "    return dd\n",
    "\n",
    "def F1(J, M1, M2):\n",
    "    j = sym.sympify(\"{0}\".format(J), rational=True)\n",
    "    m1 = sym.sympify(\"{0}\".format(M1), rational=True)\n",
    "    m2 = sym.sympify(\"{0}\".format(M2), rational=True)\n",
    "    f1 = sqrt(j*(j+1)-m2*(m2+1)) * dirac_delta(m1, (m2+1))\n",
    "    return f1.simplify()\n",
    "\n",
    "def F2(J, M1, M2):\n",
    "    j = sym.sympify(\"{0}\".format(J), rational=True)\n",
    "    m1 = sym.sympify(\"{0}\".format(M1), rational=True)\n",
    "    m2 = sym.sympify(\"{0}\".format(M2), rational=True)\n",
    "    f2 = sqrt(j*(j+1)-m2*(m2-1)) * dirac_delta(m1, (m2-1))\n",
    "    return f2.simplify()\n",
    "\n",
    "def J_x(j=1/2):\n",
    "    N = int(j*2 + 1)\n",
    "    A = sym.zeros(N, N)\n",
    "    for n in range(0, N, 1):\n",
    "        m1 = n - j \n",
    "        for k in range(0, N, 1):\n",
    "            m2 = k - j\n",
    "            F = (F1(j, m1, m2) + F2(j, m1, m2))/2\n",
    "            A[n, k] += F\n",
    "    return A\n",
    "    \n",
    "def J_y(j=1/2):\n",
    "    N = int(j*2 + 1)\n",
    "    A = sym.zeros(N, N)\n",
    "    for n in range(0, N, 1):\n",
    "        m1 = n - j \n",
    "        for k in range(0, N, 1):\n",
    "            m2 = k - j\n",
    "            F = (F1(j, m1, m2) - F2(j, m1, m2)) / (2*I)\n",
    "            A[n, k] += F\n",
    "    return A\n",
    "\n",
    "def J_z(j=1/2):\n",
    "    A = -I*(J_x(j)@J_y(j) - J_y(j)@J_x(j))\n",
    "    return A"
   ]
  },
  {
   "cell_type": "code",
   "execution_count": 43,
   "metadata": {},
   "outputs": [
    {
     "data": {
      "image/png": "[encoded data removed]",
      "text/latex": [
       "$$\\left ( \\left[\\begin{matrix}0 & \\frac{1}{2}\\\\\\frac{1}{2} & 0\\end{matrix}\\right], \\quad \\left[\\begin{matrix}0 & \\frac{i}{2}\\\\- \\frac{i}{2} & 0\\end{matrix}\\right], \\quad \\left[\\begin{matrix}- \\frac{1}{2} & 0\\\\0 & \\frac{1}{2}\\end{matrix}\\right]\\right )$$"
      ],
      "text/plain": [
       "⎛            ⎡     ⅈ⎤             ⎞\n",
       "⎜            ⎢ 0   ─⎥             ⎟\n",
       "⎜⎡ 0   1/2⎤  ⎢     2⎥  ⎡-1/2   0 ⎤⎟\n",
       "⎜⎢        ⎥, ⎢      ⎥, ⎢         ⎥⎟\n",
       "⎜⎣1/2   0 ⎦  ⎢-ⅈ    ⎥  ⎣ 0    1/2⎦⎟\n",
       "⎜            ⎢───  0⎥             ⎟\n",
       "⎝            ⎣ 2    ⎦             ⎠"
      ]
     },
     "execution_count": 43,
     "metadata": {},
     "output_type": "execute_result"
    }
   ],
   "source": [
    "J_x(), J_y(), J_z()  # J_y and J_z off by -1"
   ]
  },
  {
   "cell_type": "code",
   "execution_count": 44,
   "metadata": {},
   "outputs": [
    {
     "data": {
      "image/png": "[encoded data removed]",
      "text/latex": [
       "$$\\left ( \\left[\\begin{matrix}0 & \\frac{\\sqrt{5}}{2} & 0 & 0 & 0 & 0\\\\\\frac{\\sqrt{5}}{2} & 0 & \\sqrt{2} & 0 & 0 & 0\\\\0 & \\sqrt{2} & 0 & \\frac{3}{2} & 0 & 0\\\\0 & 0 & \\frac{3}{2} & 0 & \\sqrt{2} & 0\\\\0 & 0 & 0 & \\sqrt{2} & 0 & \\frac{\\sqrt{5}}{2}\\\\0 & 0 & 0 & 0 & \\frac{\\sqrt{5}}{2} & 0\\end{matrix}\\right], \\quad \\left[\\begin{matrix}0 & \\frac{\\sqrt{5} i}{2} & 0 & 0 & 0 & 0\\\\- \\frac{\\sqrt{5} i}{2} & 0 & \\sqrt{2} i & 0 & 0 & 0\\\\0 & - \\sqrt{2} i & 0 & \\frac{3 i}{2} & 0 & 0\\\\0 & 0 & - \\frac{3 i}{2} & 0 & \\sqrt{2} i & 0\\\\0 & 0 & 0 & - \\sqrt{2} i & 0 & \\frac{\\sqrt{5} i}{2}\\\\0 & 0 & 0 & 0 & - \\frac{\\sqrt{5} i}{2} & 0\\end{matrix}\\right], \\quad \\left[\\begin{matrix}- \\frac{5}{2} & 0 & 0 & 0 & 0 & 0\\\\0 & - \\frac{3}{2} & 0 & 0 & 0 & 0\\\\0 & 0 & - \\frac{1}{2} & 0 & 0 & 0\\\\0 & 0 & 0 & \\frac{1}{2} & 0 & 0\\\\0 & 0 & 0 & 0 & \\frac{3}{2} & 0\\\\0 & 0 & 0 & 0 & 0 & \\frac{5}{2}\\end{matrix}\\right]\\right )$$"
      ],
      "text/plain": [
       "⎛                            ⎡        √5⋅ⅈ                             ⎤      \n",
       "⎜                            ⎢  0     ────     0      0      0      0  ⎥      \n",
       "⎜⎡    √5                  ⎤  ⎢         2                               ⎥      \n",
       "⎜⎢0   ──   0    0   0   0 ⎥  ⎢                                         ⎥      \n",
       "⎜⎢    2                   ⎥  ⎢-√5⋅ⅈ                                    ⎥      \n",
       "⎜⎢                        ⎥  ⎢──────    0    √2⋅ⅈ     0      0      0  ⎥      \n",
       "⎜⎢√5                      ⎥  ⎢  2                                      ⎥  ⎡-5/\n",
       "⎜⎢──  0   √2    0   0   0 ⎥  ⎢                                         ⎥  ⎢   \n",
       "⎜⎢2                       ⎥  ⎢                       3⋅ⅈ               ⎥  ⎢ 0 \n",
       "⎜⎢                        ⎥  ⎢  0     -√2⋅ⅈ    0     ───     0      0  ⎥  ⎢   \n",
       "⎜⎢0   √2   0   3/2  0   0 ⎥  ⎢                        2                ⎥  ⎢ 0 \n",
       "⎜⎢                        ⎥, ⎢                                         ⎥, ⎢   \n",
       "⎜⎢0   0   3/2   0   √2  0 ⎥  ⎢               -3⋅ⅈ                      ⎥  ⎢ 0 \n",
       "⎜⎢                        ⎥  ⎢  0       0    ─────    0     √2⋅ⅈ    0  ⎥  ⎢   \n",
       "⎜⎢                      √5⎥  ⎢                 2                       ⎥  ⎢ 0 \n",
       "⎜⎢0   0    0   √2   0   ──⎥  ⎢                                         ⎥  ⎢   \n",
       "⎜⎢                      2 ⎥  ⎢                                     √5⋅ⅈ⎥  ⎣ 0 \n",
       "⎜⎢                        ⎥  ⎢  0       0      0    -√2⋅ⅈ    0     ────⎥      \n",
       "⎜⎢                  √5    ⎥  ⎢                                      2  ⎥      \n",
       "⎜⎢0   0    0    0   ──  0 ⎥  ⎢                                         ⎥      \n",
       "⎜⎣                  2     ⎦  ⎢                             -√5⋅ⅈ       ⎥      \n",
       "⎜                            ⎢  0       0      0      0    ──────   0  ⎥      \n",
       "⎝                            ⎣                               2         ⎦      \n",
       "\n",
       "                             ⎞\n",
       "                             ⎟\n",
       "                             ⎟\n",
       "                             ⎟\n",
       "                             ⎟\n",
       "                             ⎟\n",
       "2   0     0     0    0    0 ⎤⎟\n",
       "                            ⎥⎟\n",
       "   -3/2   0     0    0    0 ⎥⎟\n",
       "                            ⎥⎟\n",
       "    0    -1/2   0    0    0 ⎥⎟\n",
       "                            ⎥⎟\n",
       "    0     0    1/2   0    0 ⎥⎟\n",
       "                            ⎥⎟\n",
       "    0     0     0   3/2   0 ⎥⎟\n",
       "                            ⎥⎟\n",
       "    0     0     0    0   5/2⎦⎟\n",
       "                             ⎟\n",
       "                             ⎟\n",
       "                             ⎟\n",
       "                             ⎟\n",
       "                             ⎟\n",
       "                             ⎠"
      ]
     },
     "execution_count": 44,
     "metadata": {},
     "output_type": "execute_result"
    }
   ],
   "source": [
    "J_x(5/2), J_y(5/2), J_z(5/2)"
   ]
  },
  {
   "cell_type": "code",
   "execution_count": null,
   "metadata": {},
   "outputs": [],
   "source": []
  }
 ],
 "metadata": {
  "kernelspec": {
   "display_name": "Python 3",
   "language": "python",
   "name": "python3"
  },
  "language_info": {
   "codemirror_mode": {
    "name": "ipython",
    "version": 3
   },
   "file_extension": ".py",
   "mimetype": "text/x-python",
   "name": "python",
   "nbconvert_exporter": "python",
   "pygments_lexer": "ipython3",
   "version": "3.7.1"
  }
 },
 "nbformat": 4,
 "nbformat_minor": 2
}
