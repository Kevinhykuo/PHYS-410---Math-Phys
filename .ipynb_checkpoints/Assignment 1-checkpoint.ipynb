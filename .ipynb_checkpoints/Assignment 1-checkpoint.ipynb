{
 "cells": [
  {
   "cell_type": "markdown",
   "metadata": {
    "inputHidden": false,
    "outputHidden": false
   },
   "source": [
    "## Complex Number Basics "
   ]
  },
  {
   "cell_type": "markdown",
   "metadata": {},
   "source": [
    "### Import some stuff"
   ]
  },
  {
   "cell_type": "code",
   "execution_count": 3,
   "metadata": {
    "ExecuteTime": {
     "end_time": "2018-09-19T23:52:37.211297Z",
     "start_time": "2018-09-19T23:52:36.577651Z"
    }
   },
   "outputs": [],
   "source": [
    "import matplotlib.pyplot as plt\n",
    "import numpy as np\n",
    "from numpy import pi, exp, sin, cos, arccos, log, e"
   ]
  },
  {
   "cell_type": "markdown",
   "metadata": {},
   "source": [
    "### Question 2\n",
    "$\\cos(z) = 100 \\Rightarrow z = 2n\\pi + i \\cosh^{-1}(100) = 2n\\pi + i \\ln(100\\pm \\sqrt{9999}) $"
   ]
  },
  {
   "cell_type": "code",
   "execution_count": 54,
   "metadata": {
    "ExecuteTime": {
     "end_time": "2018-09-20T01:49:19.369687Z",
     "start_time": "2018-09-20T01:49:19.354492Z"
    }
   },
   "outputs": [],
   "source": [
    "ZRe = []\n",
    "ZIm = []\n",
    "\n",
    "for n in range(0, 10):\n",
    "    zRe = 2*pi*n\n",
    "    zIm = np.arccosh(100)\n",
    "    ZRe.append(zRe)\n",
    "    ZIm.append(zIm)\n",
    "    \n",
    "ZImn = [i*(-1) for i in ZIm]"
   ]
  },
  {
   "cell_type": "code",
   "execution_count": 55,
   "metadata": {
    "ExecuteTime": {
     "end_time": "2018-09-20T01:49:27.117110Z",
     "start_time": "2018-09-20T01:49:26.777080Z"
    }
   },
   "outputs": [
    {
     "data": {
      "text/plain": [
       "Text(0.5,1,'Location of $\\\\cos^{-1}(100)$ in the complex plane')"
      ]
     },
     "execution_count": 55,
     "metadata": {},
     "output_type": "execute_result"
    },
    {
     "data": {
      "image/png": "[encoded data removed]",
      "text/plain": [
       "<Figure size 432x288 with 1 Axes>"
      ]
     },
     "metadata": {},
     "output_type": "display_data"
    }
   ],
   "source": [
    "# Plot it out: \n",
    "plt.figure(1)\n",
    "plt.scatter(ZRe, ZIm, marker='o')\n",
    "plt.scatter(ZRe, ZImn, marker='o')\n",
    "plt.xlabel(r'Real')\n",
    "plt.ylabel(r'Imaginary')\n",
    "plt.title(r'Location of $\\cos^{-1}(100)$ in the complex plane')"
   ]
  },
  {
   "cell_type": "markdown",
   "metadata": {
    "inputHidden": false,
    "outputHidden": false
   },
   "source": [
    "### Question 3\n",
    "$ z = ln(-5) \\Rightarrow z = ln(5) + i(\\pi \\pm 2n\\pi)$"
   ]
  },
  {
   "cell_type": "code",
   "execution_count": 26,
   "metadata": {
    "ExecuteTime": {
     "end_time": "2018-09-20T00:06:04.050836Z",
     "start_time": "2018-09-20T00:06:04.038227Z"
    }
   },
   "outputs": [],
   "source": [
    "# The function:\n",
    "Z3Re = []\n",
    "Z3Im = []\n",
    "\n",
    "for n in range(0, 10):\n",
    "    z3 = log(5) + i*pi + i*2*n*pi\n",
    "    Z3Re.append(z3.real)\n",
    "    Z3Im.append(z3.imag)"
   ]
  },
  {
   "cell_type": "code",
   "execution_count": 35,
   "metadata": {
    "ExecuteTime": {
     "end_time": "2018-09-20T01:30:52.572489Z",
     "start_time": "2018-09-20T01:30:52.261514Z"
    }
   },
   "outputs": [
    {
     "data": {
      "text/plain": [
       "Text(0.5,1,'Location of $ln(-5)$ in the complex plane')"
      ]
     },
     "execution_count": 35,
     "metadata": {},
     "output_type": "execute_result"
    },
    {
     "data": {
      "image/png": "[encoded data removed]",
      "text/plain": [
       "<Figure size 432x288 with 1 Axes>"
      ]
     },
     "metadata": {},
     "output_type": "display_data"
    }
   ],
   "source": [
    "# Plot it out: \n",
    "plt.figure(2)\n",
    "plt.scatter(Z3Re, Z3Im, marker='o')\n",
    "plt.xlabel(r'Real')\n",
    "plt.ylabel(r'Imaginary')\n",
    "plt.title(r'Location of $ln(-5)$ in the complex plane')"
   ]
  }
 ],
 "metadata": {
  "kernel_info": {
   "name": "python3"
  },
  "kernelspec": {
   "display_name": "Python 3",
   "language": "python",
   "name": "python3"
  },
  "language_info": {
   "codemirror_mode": {
    "name": "ipython",
    "version": 3
   },
   "file_extension": ".py",
   "mimetype": "text/x-python",
   "name": "python",
   "nbconvert_exporter": "python",
   "pygments_lexer": "ipython3",
   "version": "3.6.4"
  },
  "latex_envs": {
   "LaTeX_envs_menu_present": true,
   "autoclose": false,
   "autocomplete": true,
   "bibliofile": "biblio.bib",
   "cite_by": "apalike",
   "current_citInitial": 1,
   "eqLabelWithNumbers": true,
   "eqNumInitial": 1,
   "hotkeys": {
    "equation": "Ctrl-E",
    "itemize": "Ctrl-I"
   },
   "labels_anchors": false,
   "latex_user_defs": false,
   "report_style_numbering": false,
   "user_envs_cfg": false
  },
  "nteract": {
   "version": "0.11.7"
  },
  "toc": {
   "base_numbering": 1,
   "nav_menu": {},
   "number_sections": false,
   "sideBar": true,
   "skip_h1_title": false,
   "title_cell": "Table of Contents",
   "title_sidebar": "Contents",
   "toc_cell": false,
   "toc_position": {},
   "toc_section_display": true,
   "toc_window_display": false
  }
 },
 "nbformat": 4,
 "nbformat_minor": 4
}
