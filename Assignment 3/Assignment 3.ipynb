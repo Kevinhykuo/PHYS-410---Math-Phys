{
 "cells": [
  {
   "cell_type": "markdown",
   "metadata": {},
   "source": [
    "# Assignment 3"
   ]
  },
  {
   "cell_type": "code",
   "execution_count": 28,
   "metadata": {},
   "outputs": [],
   "source": [
    "import sympy as sym\n",
    "import scipy as sci\n",
    "import numpy as np\n",
    "import math as math\n",
    "import matplotlib.pyplot as plt\n",
    "import scipy.special as scisp\n",
    "\n",
    "from scipy import inf\n",
    "from scipy.integrate import quad\n",
    "\n",
    "from sympy import collect, symbols, simplify, sqrt, exp, factorial, Poly, pi, integrate, oo, limit, diff\n",
    "from sympy.functions import Abs\n",
    "from sympy.functions.special.gamma_functions import gamma \n",
    "from sympy.plotting import plot\n",
    "from sympy.physics.mechanics import *\n",
    "\n",
    "from fractions import Fraction \n",
    "from matplotlib.ticker import MaxNLocator\n",
    "from math import inf\n",
    "from IPython.display import Math, display\n",
    "sym.init_printing()\n",
    "\n",
    "# plt.rcParams['figure.dpi'] = 100\n",
    "# plt.rcParams['savefig.format'] = 'svg'\n",
    "%matplotlib inline\n",
    "%config InlineBackend.figure_format = 'pdf'\n",
    "# plt.rcParams['figure.figsize'] = (6.4, 4.8)"
   ]
  },
  {
   "cell_type": "code",
   "execution_count": 2,
   "metadata": {},
   "outputs": [],
   "source": [
    "k, z, A, epsilon, vphi, lam = symbols('k z A epsilon varphi lambda')"
   ]
  },
  {
   "cell_type": "markdown",
   "metadata": {},
   "source": [
    "## Double-well potential: "
   ]
  },
  {
   "cell_type": "markdown",
   "metadata": {},
   "source": [
    "### b) The plot: "
   ]
  },
  {
   "cell_type": "code",
   "execution_count": 3,
   "metadata": {},
   "outputs": [],
   "source": [
    "g = np.linspace(10**(-10), 1, 100)"
   ]
  },
  {
   "cell_type": "code",
   "execution_count": 4,
   "metadata": {},
   "outputs": [],
   "source": [
    "def y(g):\n",
    "    y = np.exp(-1/g)\n",
    "    return y\n",
    "\n",
    "def Y(g):\n",
    "    Y = 0\n",
    "    for i in range(0, 200):\n",
    "        Y += (-1/g)**i / factorial(i) \n",
    "    return Y"
   ]
  },
  {
   "cell_type": "code",
   "execution_count": 29,
   "metadata": {},
   "outputs": [
    {
     "name": "stderr",
     "output_type": "stream",
     "text": [
      "/Users/Kev/anaconda3/lib/python3.6/site-packages/ipykernel_launcher.py:8: RuntimeWarning: overflow encountered in power\n",
      "  \n"
     ]
    },
    {
     "data": {
      "text/plain": [
       "<matplotlib.legend.Legend at 0x151cd82240>"
      ]
     },
     "execution_count": 29,
     "metadata": {},
     "output_type": "execute_result"
    },
    {
     "data": {
      "application/pdf": "[encoded data removed]",
      "text/plain": [
       "<Figure size 432x288 with 1 Axes>"
      ]
     },
     "metadata": {
      "needs_background": "light"
     },
     "output_type": "display_data"
    }
   ],
   "source": [
    "plt.plot(g, y(g), label='Exact')\n",
    "plt.plot(g, Y(g), label='Taylor series')\n",
    "plt.title(r'$e^{-\\frac{1}{g}}$ for values less than 1')\n",
    "plt.xlabel(r'$g$')\n",
    "plt.ylabel(r'$e^{-\\frac{1}{g}}$')\n",
    "plt.legend()"
   ]
  },
  {
   "cell_type": "markdown",
   "metadata": {},
   "source": [
    "Taylor series for $e^{-\\frac{1}{g}}$:\n",
    "\n",
    "$$e^{-\\frac{1}{g}} \\approx \\sum_{n=0}^{\\infty} \\frac{1}{n!} \\left(\\frac{-1}{g}\\right)^n$$"
   ]
  },
  {
   "cell_type": "markdown",
   "metadata": {},
   "source": [
    "### c) Calculate $c_n$: "
   ]
  },
  {
   "cell_type": "code",
   "execution_count": 6,
   "metadata": {},
   "outputs": [],
   "source": [
    "r0 = 30 # n values \n",
    "\n",
    "c = symbols('c0:250')"
   ]
  },
  {
   "cell_type": "markdown",
   "metadata": {},
   "source": [
    "Define :\n",
    "$$H = -\\frac{1}{A} \\sum_{n=1}^{\\infty} c_n \\left(Ae^{-A}\\right)^n$$"
   ]
  },
  {
   "cell_type": "code",
   "execution_count": 7,
   "metadata": {},
   "outputs": [],
   "source": [
    "H = 0\n",
    "for n in range(1, r0):\n",
    "    h = (-1/A) * c[n] * (A*exp(-A))**n\n",
    "    H += h\n",
    "\n",
    "# len(Poly(H, exp(-A)).all_coeffs())"
   ]
  },
  {
   "cell_type": "markdown",
   "metadata": {},
   "source": [
    "Define :\n",
    "$$G = \\sum_{m=0}^{\\infty} \\frac{(-1)^m}{m!} \\left[\\sum_{n=1}^{\\infty} c_n\\left(Ae^{-A}\\right)^n\\right]^m$$"
   ]
  },
  {
   "cell_type": "code",
   "execution_count": 8,
   "metadata": {},
   "outputs": [],
   "source": [
    "G = 0\n",
    "for n in range(0, r0*2):\n",
    "    F = 0\n",
    "    for i in range(1, math.ceil((r0*2+2)/(n+1))):\n",
    "        f1 = c[i] * (A*exp(-A))**i\n",
    "        F += f1\n",
    "    g1 = (-1)**n * F**n / factorial(n)\n",
    "    G += g1\n",
    "\n",
    "# G.expand().collect(A*exp(-A))"
   ]
  },
  {
   "cell_type": "markdown",
   "metadata": {},
   "source": [
    "Define: \n",
    "\n",
    "$$0 = e^{-A}H + G = e^{-A} \\sum_{m=0}^{\\infty} \\frac{(-1)^m}{m!} \\left[\\sum_{n=1}^{\\infty} c_n\\left(Ae^{-A}\\right)^n\\right]^m - \\frac{1}{A} \\sum_{n=1}^{\\infty} c_n \\left(Ae^{-A}\\right)^n$$"
   ]
  },
  {
   "cell_type": "code",
   "execution_count": 9,
   "metadata": {},
   "outputs": [],
   "source": [
    "sol1 = exp(-A)*G + H"
   ]
  },
  {
   "cell_type": "code",
   "execution_count": 10,
   "metadata": {},
   "outputs": [],
   "source": [
    "# Expand and collect the exponential terms \n",
    "# This is going to take a while, as in...forever...\n",
    "sol2 = sol1.expand().collect(A*exp(-A))"
   ]
  },
  {
   "cell_type": "markdown",
   "metadata": {},
   "source": [
    "Here we plot the difference in coefficients into the array. As the difference in coefficients is zero, we can find the values of each coefficient using previous coefficents. "
   ]
  },
  {
   "cell_type": "code",
   "execution_count": 11,
   "metadata": {},
   "outputs": [],
   "source": [
    "# Find the coefficients \n",
    "Coeff = []\n",
    "coeff = Poly(sol2, exp(-A)).all_coeffs()\n",
    "coeff = coeff[::-1]\n",
    "for i in range(0, math.ceil(len(coeff)/2)):\n",
    "    coeff[i] = coeff[i].subs({A:1})\n",
    "    co = coeff[i].subs({c[i]:0})\n",
    "    Coeff.append(co)\n",
    "\n",
    "# Display the length of the coefficients\n",
    "# and the last term in the coefficients \n",
    "# display(len(Coeff), Coeff[len(Coeff)-1])"
   ]
  },
  {
   "cell_type": "code",
   "execution_count": 12,
   "metadata": {},
   "outputs": [
    {
     "name": "stdout",
     "output_type": "stream",
     "text": [
      "Coefficient 1 : 1 ≈ 1.00000000000000\n",
      "Coefficient 2 : -1 ≈ -1.00000000000000\n",
      "Coefficient 3 : 3/2 ≈ 1.50000000000000\n",
      "Coefficient 4 : -8/3 ≈ -2.66666666666667\n",
      "Coefficient 5 : 125/24 ≈ 5.20833333333333\n",
      "Coefficient 6 : -54/5 ≈ -10.8000000000000\n",
      "Coefficient 7 : 16807/720 ≈ 23.3430555555556\n",
      "Coefficient 8 : -16384/315 ≈ -52.0126984126984\n",
      "Coefficient 9 : 531441/4480 ≈ 118.625223214286\n",
      "Coefficient 10 : -156250/567 ≈ -275.573192239859\n",
      "Coefficient 11 : 2357947691/3628800 ≈ 649.787172343474\n",
      "Coefficient 12 : -2985984/1925 ≈ -1551.16051948052\n",
      "Coefficient 13 : 1792160394037/479001600 ≈ 3741.44970295924\n",
      "Coefficient 14 : -7909306972/868725 ≈ -9104.50024115802\n",
      "Coefficient 15 : 648700729101703/29059430400 ≈ 22323.2430977623\n",
      "Coefficient 16 : -72010490839108831/1307674368000 ≈ -55067.6013855376\n",
      "Coefficient 17 : 258563306399074307/1902071808000 ≈ 135937.720811366\n",
      "Coefficient 18 : -59797956519316526113/177843714048000 ≈ -336238.797302541\n",
      "Coefficient 19 : 5161718974514154127219/6402373705728000 ≈ 806219.569766152\n",
      "Coefficient 20 : -17986781018568921742553/9357315416064000 ≈ -1922215.95818929\n",
      "Coefficient 21 : 11128098768396181338314741/2432902008176640000 ≈ 4574002.04816972\n",
      "Coefficient 22 : -69505211689258411449822419/6386367771463680000 ≈ -10883371.2959391\n",
      "Coefficient 23 : 23985014234804246579663789951/1124000727777607680000 ≈ 21338966.8192011\n",
      "Coefficient 24 : -9987268689101912212267322971/239370525360046080000 ≈ -41723051.2155985\n",
      "Coefficient 25 : 51880727415376123390788953665537/620448401733239439360000 ≈ 83618117.5911581\n",
      "Coefficient 26 : -1332597494445858404250513420988813/7755605021665492992000000 ≈ -171823795.915755\n",
      "Coefficient 27 : 7635265012824996634413248062157483/21225866375084507136000000 ≈ 359715117.296106\n",
      "Coefficient 28 : -2073581082031626047913176901850910863/2722217362604588040192000000 ≈ -761725022.592482\n",
      "Coefficient 29 : 495278110361996121708745415453678679713/304888344611713860501504000000 ≈ 1624457343.53260\n",
      "Coefficient 30 : -808237971294964291646636439955774427579/232677947203676367224832000000 ≈ -3473633754.33026\n"
     ]
    }
   ],
   "source": [
    "CoeffVal = []\n",
    "Coeff2 = Coeff\n",
    "for i in range(0, len(Coeff)):\n",
    "    rep = [(c[n], CoeffVal[n]) for n in range(i)]\n",
    "    CV = Coeff2[i].subs(rep)\n",
    "    CoeffVal.append(CV)\n",
    "\n",
    "# Coeff2[2]\n",
    "for i in range(1, len(Coeff)):\n",
    "    print('Coefficient', i, ':', CoeffVal[i], '≈', CoeffVal[i].evalf())\n",
    "#     print(' ')"
   ]
  },
  {
   "cell_type": "markdown",
   "metadata": {},
   "source": [
    "#### Ratio between successive coefficients to estimate the recurrance relation of the coefficients:"
   ]
  },
  {
   "cell_type": "code",
   "execution_count": 13,
   "metadata": {},
   "outputs": [
    {
     "data": {
      "image/png": "[encoded data removed]",
      "text/latex": [
       "$$\\left [ -1, \\quad - \\frac{3}{2}, \\quad - \\frac{16}{9}, \\quad - \\frac{125}{64}, \\quad - \\frac{1296}{625}, \\quad - \\frac{16807}{7776}, \\quad - \\frac{262144}{117649}, \\quad - \\frac{4782969}{2097152}, \\quad - \\frac{100000000}{43046721}, \\quad - \\frac{2357947691}{1000000000}, \\quad - \\frac{61917364224}{25937424601}, \\quad - \\frac{1792160394037}{743008370688}, \\quad - \\frac{56693912375296}{23298085122481}, \\quad - \\frac{1946102187305109}{793714773254144}, \\quad - \\frac{72010490839108831}{29191532809576635}, \\quad - \\frac{40059103808307287}{16227716245432976}, \\quad - \\frac{119595913038633052226}{48351338296626895409}, \\quad - \\frac{5161718974514154127219}{2152726434695394940068}, \\quad - \\frac{233828153241395982653189}{98072660515768928417161}, \\quad - \\frac{11128098768396181338314741}{4676563064827919653063780}, \\quad - \\frac{556041693514067291598579352}{233690074136319808104609561}, \\quad - \\frac{23985014234804246579663789951}{12232917257309480415168745744}, \\quad - \\frac{1078625018423006518924870880868}{551655327400497671332267168873}, \\quad - \\frac{51880727415376123390788953665537}{25887000442152156454196901140832}, \\quad - \\frac{2665194988891716808501026841977626}{1297018185384403084769723841638425}, \\quad - \\frac{145070035243674936053851713180992177}{69295069711184637021026697891418276}, \\quad - \\frac{8294324328126504191652707607403643452}{3916890951579223273453996255886788779}, \\quad - \\frac{495278110361996121708745415453678679713}{232241081187542117366275813007302016656}\\right ]$$"
      ],
      "text/plain": [
       "⎡                 -125   -1296   -16807   -262144   -4782969   -100000000   -2\n",
       "⎢-1, -3/2, -16/9, ─────, ──────, ───────, ────────, ─────────, ───────────, ──\n",
       "⎣                   64    625      7776    117649    2097152     43046721    1\n",
       "\n",
       "357947691   -61917364224   -1792160394037   -56693912375296   -194610218730510\n",
       "──────────, ─────────────, ───────────────, ────────────────, ────────────────\n",
       "000000000    25937424601     743008370688    23298085122481    793714773254144\n",
       "\n",
       "9   -72010490839108831   -40059103808307287   -119595913038633052226   -516171\n",
       "──, ───────────────────, ───────────────────, ───────────────────────, ───────\n",
       "     29191532809576635    16227716245432976     48351338296626895409    215272\n",
       "\n",
       "8974514154127219   -233828153241395982653189   -11128098768396181338314741   -\n",
       "─────────────────, ──────────────────────────, ────────────────────────────, ─\n",
       "6434695394940068    98072660515768928417161     4676563064827919653063780     \n",
       "\n",
       "556041693514067291598579352   -23985014234804246579663789951   -10786250184230\n",
       "────────────────────────────, ───────────────────────────────, ───────────────\n",
       "233690074136319808104609561    12232917257309480415168745744     5516553274004\n",
       "\n",
       "06518924870880868   -51880727415376123390788953665537   -266519498889171680850\n",
       "──────────────────, ──────────────────────────────────, ──────────────────────\n",
       "97671332267168873    25887000442152156454196901140832    129701818538440308476\n",
       "\n",
       "1026841977626   -145070035243674936053851713180992177   -829432432812650419165\n",
       "──────────────, ──────────────────────────────────────, ──────────────────────\n",
       "9723841638425    69295069711184637021026697891418276     391689095157922327345\n",
       "\n",
       "2707607403643452   -495278110361996121708745415453678679713 ⎤\n",
       "─────────────────, ─────────────────────────────────────────⎥\n",
       "3996255886788779    232241081187542117366275813007302016656 ⎦"
      ]
     },
     "metadata": {},
     "output_type": "display_data"
    }
   ],
   "source": [
    "# Plan b: If can't find the 100th term,\n",
    "# Sample the first couple terms, then\n",
    "# find the recurssion relation \n",
    "\n",
    "Recur = []\n",
    "for i in range(1, len(CoeffVal)-2):\n",
    "    RC = CoeffVal[i+1]/CoeffVal[i]\n",
    "    Recur.append(RC)\n",
    "    \n",
    "display(Recur)"
   ]
  },
  {
   "cell_type": "markdown",
   "metadata": {},
   "source": [
    "The above array is the relationship between each coefficients. From the relationship between the values we can guess the recurrance relation might be: \n",
    "\n",
    "$$c_{n+1} = -c_n \\left(\\frac{n+1}{n}\\right)^{n-1} = c_1 (-1)^{n+1} \\prod_{m=1}^n \\left( \\frac{m+1}{m} \\right) ^{m-1} \\ \\text{for} \\ c_1 = 1, n \\in \\left\\{ 1 \\leq \\mathbb{Z} \\right\\}$$ "
   ]
  },
  {
   "cell_type": "code",
   "execution_count": 14,
   "metadata": {},
   "outputs": [],
   "source": [
    "# Coefficent from recurrsion formula:\n",
    "nn = 30 # Terms\n",
    "\n",
    "CC = []\n",
    "c1 = 1\n",
    "CC.append(c1)\n",
    "\n",
    "# Recurrsion formula \n",
    "def cn(n):\n",
    "    Prod = 1\n",
    "    for m in range(1, n):\n",
    "        prod = Fraction((m+1), m)**(m-1)\n",
    "        Prod = Prod*prod\n",
    "    cn1 = Prod * (-1)**(n+1)\n",
    "    return(cn1)\n",
    "\n",
    "for n in range(1, nn):\n",
    "    CC.append(cn(n))"
   ]
  },
  {
   "cell_type": "code",
   "execution_count": 15,
   "metadata": {},
   "outputs": [
    {
     "name": "stdout",
     "output_type": "stream",
     "text": [
      "Coefficient 15 obtained from the recurrsion relation is inaccurate\n",
      "Recurrsion coefficient: 22324.3085127066\n",
      "Series coefficient: 22323.243097762268\n",
      "Absolute error: 1.0654149443342151\n",
      "Relative error: 4.772670976472118e-05 \n",
      "\n",
      "Coefficient 17 obtained from the recurrsion relation is inaccurate\n",
      "Recurrsion coefficient: 136808.86090394293\n",
      "Series coefficient: 135937.72081136607\n",
      "Absolute error: 871.1400925768555\n",
      "Relative error: 0.006408376478414646 \n",
      "\n",
      "Coefficient 19 obtained from the recurrsion relation is inaccurate\n",
      "Recurrsion coefficient: 855992.9659966076\n",
      "Series coefficient: 806219.5697661523\n",
      "Absolute error: 49773.396230455284\n",
      "Relative error: 0.06173677506351314 \n",
      "\n",
      "Coefficient 21 obtained from the recurrsion relation is inaccurate\n",
      "Recurrsion coefficient: 5445552.922314462\n",
      "Series coefficient: 4574002.048169722\n",
      "Absolute error: 871550.8741447403\n",
      "Relative error: 0.19054448707417823 \n",
      "\n",
      "Coefficient 23 obtained from the recurrsion relation is inaccurate\n",
      "Recurrsion coefficient: 35117044.985139236\n",
      "Series coefficient: 21338966.81920109\n",
      "Absolute error: 13778078.165938143\n",
      "Relative error: 0.6456769103525876 \n",
      "\n",
      "Coefficient 25 obtained from the recurrsion relation is inaccurate\n",
      "Recurrsion coefficient: 229041684.61879498\n",
      "Series coefficient: 83618117.5911581\n",
      "Absolute error: 145423567.02763686\n",
      "Relative error: 1.739139449881782 \n",
      "\n",
      "Coefficient 27 obtained from the recurrsion relation is inaccurate\n",
      "Recurrsion coefficient: 1508256053.8577929\n",
      "Series coefficient: 359715117.29610604\n",
      "Absolute error: 1148540936.561687\n",
      "Relative error: 3.1929181770146307 \n",
      "\n",
      "Coefficient 29 obtained from the recurrsion relation is inaccurate\n",
      "Recurrsion coefficient: 10013943136.654829\n",
      "Series coefficient: 1624457343.5325985\n",
      "Absolute error: 8389485793.1222315\n",
      "Relative error: 5.164485128848123 \n",
      "\n"
     ]
    }
   ],
   "source": [
    "# Check if the coefficients from the recurrsion fromula \n",
    "# matches the coefficients calculated from the series\n",
    "for i in range(1, len(CC)):\n",
    "    # Error check up to 10^(-10) \n",
    "    if CC[i] - CoeffVal[i] < 10**(-10):\n",
    "        continue\n",
    "    else: \n",
    "        print('Coefficient', i, \n",
    "              'obtained from the recurrsion relation is inaccurate')\n",
    "        print('Recurrsion coefficient:', float(CC[i]))\n",
    "        print('Series coefficient:', float(CoeffVal[i]))\n",
    "        print('Absolute error:', float(CC[i] - CoeffVal[i]))\n",
    "        print('Relative error:', float((CC[i] - CoeffVal[i])/CoeffVal[i]), '\\n')"
   ]
  },
  {
   "cell_type": "markdown",
   "metadata": {},
   "source": [
    "The relative error grows larger with larger coefficients, but this applies only to odd coefficients. Even coefficients are surprisingly accurate. This indicates there might be a difference in the recurrance relation for even and odd terms, or that my code is not calculating the odd coefficients correctly due to error. Assuming the accuracy remains true for higher even coefficients, let's generate the coefficients up to the 100th term:  "
   ]
  },
  {
   "cell_type": "code",
   "execution_count": 16,
   "metadata": {},
   "outputs": [
    {
     "name": "stdout",
     "output_type": "stream",
     "text": [
      "Coefficient 1 : 1.0\n",
      "Coefficient 2 : -1.0\n",
      "Coefficient 3 : 1.5\n",
      "Coefficient 4 : -2.6666666666666665\n",
      "Coefficient 5 : 5.208333333333333\n",
      "Coefficient 6 : -10.8\n",
      "Coefficient 7 : 23.343055555555555\n",
      "Coefficient 8 : -52.01269841269841\n",
      "Coefficient 9 : 118.62522321428571\n",
      "Coefficient 10 : -275.5731922398589\n",
      "Coefficient 11 : 649.7871723434745\n",
      "Coefficient 12 : -1551.1605194805195\n",
      "Coefficient 13 : 3741.4497029592385\n",
      "Coefficient 14 : -9104.500241158019\n",
      "Coefficient 15 : 22324.3085127066\n",
      "Coefficient 16 : -55103.621972903835\n",
      "Coefficient 17 : 136808.86090394293\n",
      "Coefficient 18 : -341422.05066583835\n",
      "Coefficient 19 : 855992.9659966076\n",
      "Coefficient 20 : -2154990.2060910882\n",
      "Coefficient 21 : 5445552.922314462\n",
      "Coefficient 22 : -13807330.002166629\n",
      "Coefficient 23 : 35117044.985139236\n",
      "Coefficient 24 : -89568002.56102797\n",
      "Coefficient 25 : 229041684.61879498\n",
      "Coefficient 26 : -587103504.1171799\n",
      "Coefficient 27 : 1508256053.8577929\n",
      "Coefficient 28 : -3882630161.293189\n",
      "Coefficient 29 : 10013943136.654829\n",
      "Coefficient 30 : -25873567362.657608\n",
      "Coefficient 31 : 66962097093.58074\n",
      "Coefficient 32 : -173571165959.9198\n",
      "Coefficient 33 : 450568046564.2354\n",
      "Coefficient 34 : -1171223178256.4873\n",
      "Coefficient 35 : 3048462517882.447\n",
      "Coefficient 36 : -7944240398206.812\n",
      "Coefficient 37 : 20726462893727.055\n",
      "Coefficient 38 : -54134309927745.64\n",
      "Coefficient 39 : 141537001323842.75\n",
      "Coefficient 40 : -370420141783066.7\n",
      "Coefficient 41 : 970343148988291.6\n",
      "Coefficient 42 : -2544149870142830.0\n",
      "Coefficient 43 : 6676186549945615.0\n",
      "Coefficient 44 : -1.7533383884497608e+16\n",
      "Coefficient 45 : 4.60827878998424e+16\n",
      "Coefficient 46 : -1.2120840403841997e+17\n",
      "Coefficient 47 : 3.1903175600194195e+17\n",
      "Coefficient 48 : -8.402903354222312e+17\n",
      "Coefficient 49 : 2.21465954871603e+18\n",
      "Coefficient 50 : -5.840571433838374e+18\n",
      "Coefficient 51 : 1.5412168778694736e+19\n",
      "Coefficient 52 : -4.069322719765488e+19\n",
      "Coefficient 53 : 1.0750309245601006e+20\n",
      "Coefficient 54 : -2.841523479625779e+20\n",
      "Coefficient 55 : 7.514576699787185e+20\n",
      "Coefficient 56 : -1.9882580395853338e+21\n",
      "Coefficient 57 : 5.263181221319305e+21\n",
      "Coefficient 58 : -1.393875696142799e+22\n",
      "Coefficient 59 : 3.6931170823009246e+22\n",
      "Coefficient 60 : -9.789238808348462e+22\n",
      "Coefficient 61 : 2.5958848046636118e+23\n",
      "Coefficient 62 : -6.886470406171994e+23\n",
      "Coefficient 63 : 1.82758313942499e+24\n",
      "Coefficient 64 : -4.852007501582215e+24\n",
      "Coefficient 65 : 1.2886191206597694e+25\n",
      "Coefficient 66 : -3.423588987248066e+25\n",
      "Coefficient 67 : 9.098881018831215e+25\n",
      "Coefficient 68 : -2.419018815528663e+26\n",
      "Coefficient 69 : 6.433261047507392e+26\n",
      "Coefficient 70 : -1.7114323043280685e+27\n",
      "Coefficient 71 : 4.554293613099411e+27\n",
      "Coefficient 72 : -1.21230351895065e+28\n",
      "Coefficient 73 : 3.227952889170164e+28\n",
      "Coefficient 74 : -8.597359350864599e+28\n",
      "Coefficient 75 : 2.2904550168353216e+29\n",
      "Coefficient 76 : -6.103713000670467e+29\n",
      "Coefficient 77 : 1.6269682265597198e+30\n",
      "Coefficient 78 : -4.337842335304133e+30\n",
      "Coefficient 79 : 1.1568455628188089e+31\n",
      "Coefficient 80 : -3.085895746764332e+31\n",
      "Coefficient 81 : 8.233581124561597e+31\n",
      "Coefficient 82 : -2.1973308306283072e+32\n",
      "Coefficient 83 : 5.865416934086536e+32\n",
      "Coefficient 84 : -1.5660180769945114e+33\n",
      "Coefficient 85 : 4.182027286033164e+33\n",
      "Coefficient 86 : -1.1170355799760446e+34\n",
      "Coefficient 87 : 2.9842494563739106e+34\n",
      "Coefficient 88 : -7.974238176573383e+34\n",
      "Coefficient 89 : 2.1312151963492572e+35\n",
      "Coefficient 90 : -5.697017455033175e+35\n",
      "Coefficient 91 : 1.523169120402824e+36\n",
      "Coefficient 92 : -4.0731206898104024e+36\n",
      "Coefficient 93 : 1.089389810261902e+37\n",
      "Coefficient 94 : -2.914167919306647e+37\n",
      "Coefficient 95 : 7.796855402425589e+37\n",
      "Coefficient 96 : -2.0863947853703042e+38\n",
      "Coefficient 97 : 5.583983227480016e+38\n",
      "Coefficient 98 : -1.494723567161428e+39\n",
      "Coefficient 99 : 4.001708187541245e+39\n",
      "Coefficient 100 : -1.0715102881254669e+40\n"
     ]
    }
   ],
   "source": [
    "for i in range(1, 101):\n",
    "    print('Coefficient', i, ':', float(cn(i)))"
   ]
  },
  {
   "cell_type": "markdown",
   "metadata": {},
   "source": [
    "$$\\therefore c_{100} \\approx −1.0715102881254669 \\times 10^{40}$$\n",
    "\n",
    "I'm not writing it as a fraction, because....well....just look at the amout of digits in the numerator and denominator."
   ]
  },
  {
   "cell_type": "markdown",
   "metadata": {},
   "source": [
    "## Funny perturbation theory:"
   ]
  },
  {
   "cell_type": "markdown",
   "metadata": {},
   "source": [
    "$$Z(\\lambda) = \\frac{1}{\\sqrt{2\\pi}} \\sum_{n=0}^{\\infty} \\left[ \\frac{(-1)^n}{n!} \\int_{-\\infty}^{\\infty} d\\varphi \\ \\varphi^{4n} e^{-\\frac{1}{2} \\varphi^2} \\right] \\lambda^n $$"
   ]
  },
  {
   "cell_type": "markdown",
   "metadata": {},
   "source": [
    "### a) Find $c_n$\n",
    "\n",
    "#### Do the integral: $$\\int_{-\\infty}^{\\infty} d\\varphi \\ \\varphi^{4n} e^{-\\frac{1}{2} \\varphi^2}$$"
   ]
  },
  {
   "cell_type": "code",
   "execution_count": 17,
   "metadata": {},
   "outputs": [
    {
     "data": {
      "image/png": "[encoded data removed]",
      "text/latex": [
       "$$\\begin{cases} 2^{2 k - \\frac{1}{2}} \\left(\\left(-1\\right)^{4 k} + 1\\right) \\Gamma\\left(2 k + \\frac{1}{2}\\right) & \\text{for}\\: - 2 \\Re{\\left(k\\right)} + \\frac{1}{2} < 1 \\\\\\int_{-\\infty}^{\\infty} \\varphi^{4 k} e^{- \\frac{\\varphi^{2}}{2}}\\, d\\varphi & \\text{otherwise} \\end{cases}$$"
      ],
      "text/plain": [
       "⎧ 2⋅k - 1/2 ⎛    4⋅k    ⎞                                     \n",
       "⎪2         ⋅⎝(-1)    + 1⎠⋅Γ(2⋅k + 1/2)  for -2⋅re(k) + 1/2 < 1\n",
       "⎪                                                             \n",
       "⎪  ∞                                                          \n",
       "⎪  ⌠                                                          \n",
       "⎪  ⎮                    2                                     \n",
       "⎨  ⎮             -varphi                                      \n",
       "⎪  ⎮             ─────────                                    \n",
       "⎪  ⎮        4⋅k      2                                        \n",
       "⎪  ⎮  varphi   ⋅ℯ          d(varphi)          otherwise       \n",
       "⎪  ⌡                                                          \n",
       "⎪  -∞                                                         \n",
       "⎩                                                             "
      ]
     },
     "metadata": {},
     "output_type": "display_data"
    }
   ],
   "source": [
    "k = symbols('k')\n",
    "Integral = vphi**(4*k) * exp(-vphi**2/2)\n",
    "Inte = integrate(Integral, (vphi, -oo, oo)).simplify(rational=True)\n",
    "display(Inte)"
   ]
  },
  {
   "cell_type": "markdown",
   "metadata": {},
   "source": [
    "$$\\therefore Z(\\lambda) = \\frac{1}{\\sqrt{\\pi}} \\sum_{n=0}^{\\infty} \\left\\{ \\frac{(-1)^n}{n!} 2^{2n-1} \\left[ (-1)^{4n}+1 \\right] \\Gamma \\left( 2n+\\frac{1}{2} \\right) \\right\\} \\lambda^n \\ \\text{for} \\ Re(n)> -\\frac{1}{4}$$\n",
    "\n",
    "$$ \\Rightarrow c_n = \\frac{1}{\\sqrt{\\pi}} \\left\\{ \\frac{(-1)^n}{n!} 2^{2n-1} \\left[ (-1)^{4n}+1 \\right] \\Gamma \\left( 2n+\\frac{1}{2} \\right) \\right\\} = \\frac{1}{\\sqrt{\\pi}} \\left\\{ \\frac{(-1)^n}{n!} \\left(2^{2n}\\right) \\Gamma \\left( 2n+\\frac{1}{2} \\right) \\right\\} \\ \\text{for} \\ n \\in \\left\\{ \\mathbb{Z} >0 \\right\\}$$"
   ]
  },
  {
   "cell_type": "markdown",
   "metadata": {},
   "source": [
    "### b) Plotting the approximate solution\n",
    "\n",
    "#### Here's the functions"
   ]
  },
  {
   "cell_type": "code",
   "execution_count": 18,
   "metadata": {},
   "outputs": [
    {
     "name": "stdout",
     "output_type": "stream",
     "text": [
      "Order 0 :\n"
     ]
    },
    {
     "data": {
      "image/png": "[encoded data removed]",
      "text/latex": [
       "$$1$$"
      ],
      "text/plain": [
       "1"
      ]
     },
     "metadata": {},
     "output_type": "display_data"
    },
    {
     "name": "stdout",
     "output_type": "stream",
     "text": [
      " \n",
      "Order 1 :\n"
     ]
    },
    {
     "data": {
      "image/png": "[encoded data removed]",
      "text/latex": [
       "$$- 3 \\lambda + 1$$"
      ],
      "text/plain": [
       "-3⋅λ + 1"
      ]
     },
     "metadata": {},
     "output_type": "display_data"
    },
    {
     "name": "stdout",
     "output_type": "stream",
     "text": [
      " \n",
      "Order 2 :\n"
     ]
    },
    {
     "data": {
      "image/png": "[encoded data removed]",
      "text/latex": [
       "$$\\frac{105 \\lambda^{2}}{2} - 3 \\lambda + 1$$"
      ],
      "text/plain": [
       "     2          \n",
       "105⋅λ           \n",
       "────── - 3⋅λ + 1\n",
       "  2             "
      ]
     },
     "metadata": {},
     "output_type": "display_data"
    },
    {
     "name": "stdout",
     "output_type": "stream",
     "text": [
      " \n",
      "Order 3 :\n"
     ]
    },
    {
     "data": {
      "image/png": "[encoded data removed]",
      "text/latex": [
       "$$- \\frac{3465 \\lambda^{3}}{2} + \\frac{105 \\lambda^{2}}{2} - 3 \\lambda + 1$$"
      ],
      "text/plain": [
       "        3        2          \n",
       "  3465⋅λ    105⋅λ           \n",
       "- ─────── + ────── - 3⋅λ + 1\n",
       "     2        2             "
      ]
     },
     "metadata": {},
     "output_type": "display_data"
    },
    {
     "name": "stdout",
     "output_type": "stream",
     "text": [
      " \n",
      "Order 4 :\n"
     ]
    },
    {
     "data": {
      "image/png": "[encoded data removed]",
      "text/latex": [
       "$$\\frac{675675 \\lambda^{4}}{8} - \\frac{3465 \\lambda^{3}}{2} + \\frac{105 \\lambda^{2}}{2} - 3 \\lambda + 1$$"
      ],
      "text/plain": [
       "        4         3        2          \n",
       "675675⋅λ    3465⋅λ    105⋅λ           \n",
       "───────── - ─────── + ────── - 3⋅λ + 1\n",
       "    8          2        2             "
      ]
     },
     "metadata": {},
     "output_type": "display_data"
    },
    {
     "name": "stdout",
     "output_type": "stream",
     "text": [
      " \n"
     ]
    }
   ],
   "source": [
    "order = 4\n",
    "Fn = 0\n",
    "for m in range(0, order+1):\n",
    "    Func = 0\n",
    "    Fn = 0\n",
    "    for n in range(0, m+1):\n",
    "        Gamm = gamma(2*n + sym.Rational(1, 2))\n",
    "        Frac = (-1)**n / factorial(n)\n",
    "        func = 2**(2*n) * Frac * Gamm * lam**n\n",
    "        Func += func\n",
    "    Fn = Func/(pi**0.5)\n",
    "    print('Order', m, ':')\n",
    "    display(Fn.expand().collect(lam))\n",
    "    print(' ')"
   ]
  },
  {
   "cell_type": "markdown",
   "metadata": {},
   "source": [
    "#### Plot the approximate solution:"
   ]
  },
  {
   "cell_type": "code",
   "execution_count": 30,
   "metadata": {},
   "outputs": [
    {
     "data": {
      "image/png": "[encoded data removed]",
      "text/latex": [
       "$$\\left ( 0.75, \\quad 1.2\\right )$$"
      ],
      "text/plain": [
       "(0.75, 1.2)"
      ]
     },
     "execution_count": 30,
     "metadata": {},
     "output_type": "execute_result"
    },
    {
     "data": {
      "application/pdf": "[encoded data removed]",
      "text/plain": [
       "<Figure size 432x288 with 1 Axes>"
      ]
     },
     "metadata": {
      "needs_background": "light"
     },
     "output_type": "display_data"
    }
   ],
   "source": [
    "Lam = np.linspace(0, 0.1, 100)\n",
    "Fn = 0\n",
    "for m in range(0, order+1):\n",
    "    def fn(LAM):\n",
    "        Func = np.zeros_like(LAM)\n",
    "        for n in range(0, m+1):\n",
    "            Gamm = scisp.gamma(2*n + 0.5)\n",
    "            Frac = (-1)**n / np.math.factorial(n)\n",
    "            func = 2**(2*n) * Frac * Gamm * LAM**n\n",
    "            Func += func\n",
    "        return Func/(pi**0.5)\n",
    "    plt.plot(Lam, fn(Lam), label = m)\n",
    "\n",
    "plt.legend()\n",
    "plt.title(r'$Z(\\lambda)$ for different orders of $\\lambda^n$')\n",
    "plt.xlabel(r'$\\lambda$')\n",
    "plt.ylabel(r'$Z(\\lambda)$')\n",
    "plt.ylim(0.75, 1.2)"
   ]
  },
  {
   "cell_type": "markdown",
   "metadata": {},
   "source": [
    "### c) Plot the exact solution:"
   ]
  },
  {
   "cell_type": "code",
   "execution_count": 31,
   "metadata": {},
   "outputs": [
    {
     "data": {
      "text/plain": [
       "Text(0, 0.5, '$Z(\\\\lambda)$')"
      ]
     },
     "execution_count": 31,
     "metadata": {},
     "output_type": "execute_result"
    },
    {
     "data": {
      "application/pdf": "[encoded data removed]",
      "text/plain": [
       "<Figure size 432x288 with 1 Axes>"
      ]
     },
     "metadata": {
      "needs_background": "light"
     },
     "output_type": "display_data"
    }
   ],
   "source": [
    "Zex = []\n",
    "for lam in Lam:\n",
    "    first, last = quad(lambda x, lam: np.exp(-0.5 * x**2 - lam * x**4), -inf, inf, lam)\n",
    "    z = (2*pi)**(-0.5) * (first - last)\n",
    "    Zex.append(z)\n",
    "    \n",
    "plt.plot(Lam, Zex[:])\n",
    "plt.title(r'$Z(\\lambda) = \\left(2\\pi\\right)^{-\\frac{1}{2}}$ $\\int_{-\\infty}^{\\infty} d\\varphi$ $\\ e^{-\\frac{1}{2}\\varphi^2 - \\lambda \\varphi^4}$')\n",
    "plt.xlabel(r'$\\lambda$')\n",
    "plt.ylabel(r'$Z(\\lambda)$')"
   ]
  },
  {
   "cell_type": "code",
   "execution_count": 32,
   "metadata": {},
   "outputs": [
    {
     "data": {
      "application/pdf": "[encoded data removed]",
      "text/plain": [
       "<Figure size 1152x432 with 2 Axes>"
      ]
     },
     "metadata": {
      "needs_background": "light"
     },
     "output_type": "display_data"
    }
   ],
   "source": [
    "Lam = np.linspace(0, 0.1, 100)\n",
    "Fn = 0\n",
    "\n",
    "fig, (ax1, ax2) = plt.subplots(1,2, figsize=(16, 6))\n",
    "\n",
    "ax1.plot(Lam, Zex[:], label='Exact')\n",
    "ax2.plot(Lam, Zex[:], label='Exact')\n",
    "\n",
    "for m in range(0, order+1):\n",
    "    def fn(lam):\n",
    "        Func = np.zeros_like(lam)\n",
    "        for n in range(0, m+1):\n",
    "            Gamm = scisp.gamma(2*n + 0.5)\n",
    "            Frac = (-1)**n / np.math.factorial(n)\n",
    "            func = 2**(2*n) * Frac * Gamm * lam**n\n",
    "            Func += func\n",
    "        return Func/(pi**0.5)\n",
    "    ax1.plot(Lam, fn(Lam), label = m, linestyle = '--') \n",
    "    ax2.margins(x=0, y=-0.25)\n",
    "    ax2.plot(Lam, fn(Lam), label = m, linestyle = '--')\n",
    "\n",
    "ax1.set_title(r'$Z(\\lambda) = \\left(2\\pi\\right)^{-\\frac{1}{2}}$ $\\int_{-\\infty}^{\\infty} d\\varphi$ $\\ e^{-\\frac{1}{2}\\varphi^2 - \\lambda \\varphi^4}$ with Taylor series approximation', fontsize = 14)\n",
    "ax1.set_xlabel(r'$\\lambda$', fontsize = 12)\n",
    "ax1.set_ylabel(r'$Z(\\lambda)$', fontsize = 12)\n",
    "ax1.set_ylim(0.85, 1.01)\n",
    "ax1.set_xlim(0, 0.1)\n",
    "ax1.legend()\n",
    "\n",
    "ax2.set_title(r'Close-up of $Z(\\lambda) = \\left(2\\pi\\right)^{-\\frac{1}{2}}$ $\\int_{-\\infty}^{\\infty} d\\varphi$ $\\ e^{-\\frac{1}{2}\\varphi^2 - \\lambda \\varphi^4}$ with Taylor series approximation',  fontsize = 14)\n",
    "ax2.set_ylim(0.965, 1.001)\n",
    "ax2.set_xlim(0, 0.0125)\n",
    "ax2.set_xlabel(r'$\\lambda$', fontsize = 12)\n",
    "ax2.set_ylabel(r'$Z(\\lambda)$', fontsize = 12)\n",
    "ax2.legend()\n",
    "\n",
    "fig.tight_layout()"
   ]
  },
  {
   "cell_type": "markdown",
   "metadata": {},
   "source": [
    "### d) Coefficients $c_n$ at large $n$:"
   ]
  },
  {
   "cell_type": "code",
   "execution_count": 22,
   "metadata": {},
   "outputs": [
    {
     "data": {
      "image/png": "[encoded data removed]",
      "text/latex": [
       "$$- \\frac{1.65544264081045 \\cdot 10^{222}}{\\pi^{0.5}}$$"
      ],
      "text/plain": [
       "                        -0.5\n",
       "-1.65544264081045e+222⋅π    "
      ]
     },
     "metadata": {},
     "output_type": "display_data"
    },
    {
     "data": {
      "image/png": "[encoded data removed]",
      "text/latex": [
       "$$\\frac{2.19683150730693 \\cdot 10^{225}}{\\pi^{0.5}}$$"
      ],
      "text/plain": [
       "                       -0.5\n",
       "2.19683150730693e+225⋅π    "
      ]
     },
     "metadata": {},
     "output_type": "display_data"
    },
    {
     "data": {
      "image/png": "[encoded data removed]",
      "text/latex": [
       "$$- \\frac{2.95264722287951 \\cdot 10^{228}}{\\pi^{0.5}}$$"
      ],
      "text/plain": [
       "                        -0.5\n",
       "-2.95264722287951e+228⋅π    "
      ]
     },
     "metadata": {},
     "output_type": "display_data"
    },
    {
     "data": {
      "image/png": "[encoded data removed]",
      "text/latex": [
       "$$\\frac{\\infty}{\\pi^{0.5}}$$"
      ],
      "text/plain": [
       "     -0.5\n",
       "inf⋅π    "
      ]
     },
     "metadata": {},
     "output_type": "display_data"
    },
    {
     "name": "stderr",
     "output_type": "stream",
     "text": [
      "/Users/Kev/anaconda3/lib/python3.6/site-packages/ipykernel_launcher.py:6: RuntimeWarning: invalid value encountered in double_scalars\n",
      "  \n"
     ]
    },
    {
     "data": {
      "image/png": "[encoded data removed]",
      "text/latex": [
       "$$\\mathrm{NaN}$$"
      ],
      "text/plain": [
       "nan"
      ]
     },
     "metadata": {},
     "output_type": "display_data"
    }
   ],
   "source": [
    "cn = 0\n",
    "for n in range(83, 88):\n",
    "    Gamm = scisp.gamma(2*n + 0.5)\n",
    "    Frac = (-1)**n / math.factorial(n)\n",
    "    Summ = 2**(2*n) * Frac * Gamm\n",
    "    cn += Summ\n",
    "    Cn = cn/(pi**0.5)\n",
    "    display(Cn)"
   ]
  },
  {
   "cell_type": "markdown",
   "metadata": {},
   "source": [
    "As we can see, the magnitude of the coefficients get larger with larger $n$ values while alternating between positive and nagative values. Eventually, Python breaks down and rage-quits, hence we get \"NaN\"."
   ]
  },
  {
   "cell_type": "markdown",
   "metadata": {},
   "source": [
    "#### Radius of convergence:\n",
    "\n",
    "Use ratio test:\n",
    "\n",
    "$$L = \\lim_{n\\to\\infty} \\left|\\frac{c_{n+1}}{c_n}\\right|$$\n",
    "$$\\therefore L = \\lim_{n\\to\\infty} \\left|\\frac{\\frac{(-1)^{n+1}}{(n+1)!} 2^{2(n+1)-1} \\left[ (-1)^{4(n+1)}+1 \\right] \\Gamma \\left( 2(n+1)+\\frac{1}{2} \\right)}{\\frac{(-1)^n}{n!} 2^{2n-1} \\left[ (-1)^{4n}+1 \\right] \\Gamma \\left( 2n+\\frac{1}{2} \\right)}\\right| = \\lim_{n\\to\\infty} \\left|\\frac{- 2^{2} \\left[ (-1)^{4(n+1)}+1 \\right] \\Gamma \\left( 2(n+1)+\\frac{1}{2} \\right)}{(n+1) \\left[ (-1)^{4n}+1 \\right] \\Gamma \\left( 2n+\\frac{1}{2} \\right)}\\right|$$\n",
    "$$\\Rightarrow L = \\lim_{n\\to\\infty} \\left|\\frac{- 2^2 \\Gamma \\left( 2(n+1)+\\frac{1}{2} \\right)}{(n+1) \\Gamma \\left( 2n+\\frac{1}{2} \\right)}\\right| = \\lim_{n\\to\\infty} \\left|\\frac{4 \\Gamma \\left( 2n+\\frac{5}{2} \\right)}{(n+1) \\Gamma \\left( 2n+\\frac{1}{2} \\right)}\\right|$$"
   ]
  },
  {
   "cell_type": "code",
   "execution_count": 23,
   "metadata": {},
   "outputs": [
    {
     "name": "stdout",
     "output_type": "stream",
     "text": [
      "L =  -oo\n"
     ]
    }
   ],
   "source": [
    "coeffn1 = -4*gamma(2*k+2.5)\n",
    "coeffn0 = (k+1)*gamma(2*k+0.5)\n",
    "ratio = coeffn1/coeffn0\n",
    "L = limit(ratio, k, inf)\n",
    "print('L = ', L)"
   ]
  },
  {
   "cell_type": "markdown",
   "metadata": {},
   "source": [
    "Well then...because $L=-\\infty \\ll 1$ we can safely say this series is divergent, and with a radius of convergence of zero. "
   ]
  },
  {
   "cell_type": "markdown",
   "metadata": {},
   "source": [
    "### e) Order which the perturbation theory breaks down:\n",
    "\n",
    "The perturbation theory breaks down when $c_{n+1} \\lambda^{n+1} \\geq c_n\\lambda^n$. \n",
    "\n",
    "$$\\therefore Ratio = \\left| \\frac{c_{n+1} \\lambda}{c_n} \\right| = \\left|\\frac{4 \\Gamma \\left( 2n+\\frac{5}{2} \\right) \\lambda}{(n+1) \\Gamma \\left( 2n+\\frac{1}{2} \\right)}\\right| \\geq 1 \\ \\ \\text{For theory breakdown}$$\n",
    "\n",
    "We can stop here, but let's solve for $n$ as a function of $\\lambda$ anyways:\n",
    "\n",
    "$$\\left|\\frac{4  \\left( 2n+\\frac{3}{2} \\right) \\left( 2n+\\frac{1}{2} \\right) \\Gamma \\left( 2n+\\frac{1}{2} \\right) \\lambda}{(n+1) \\Gamma \\left( 2n +\\frac{1}{2} \\right)}\\right| \\geq 1$$\n",
    "\n",
    "$$\\left|  \\left( 4n+3 \\right) \\left( 4n+1 \\right) \\lambda \\right| \\geq \\left| (n+1)\\right|$$\n",
    "\n",
    "$$\\left| (16n^2 + 16n + 3)\\lambda \\right| \\geq \\left| n+1 \\right|$$\n",
    "\n",
    "$$\\left| 16\\lambda n^2 + (16\\lambda - 1)n + (3\\lambda - 1)\\right| \\geq 0$$\n",
    "\n",
    "$$\\therefore n \\geq \\frac{-(16\\lambda - 1) \\pm \\sqrt{(16\\lambda-1)^2 - 4(16\\lambda)(3\\lambda-1)}}{32\\lambda}$$\n",
    "\n",
    "$$n \\geq \\frac{-(16\\lambda - 1) \\pm \\sqrt{(256\\lambda^2-32\\lambda+2) - (192\\lambda^2 - 64\\lambda)}}{32\\lambda}$$\n",
    "\n",
    "$$n \\geq \\frac{-(16\\lambda - 1) \\pm \\sqrt{(64\\lambda^2+32\\lambda+2)}}{32\\lambda} = -\\frac{1}{2} + \\frac{1 \\pm \\sqrt{(64\\lambda^2+32\\lambda+2)}}{32\\lambda}$$\n",
    "\n",
    "Take the positive square root, otherwise $n$ won't make sense.\n",
    "\n",
    "$$\\therefore n \\geq -\\frac{1}{2} + \\frac{1 + \\sqrt{(64\\lambda^2+32\\lambda+2)}}{32\\lambda}$$ "
   ]
  },
  {
   "cell_type": "code",
   "execution_count": 24,
   "metadata": {},
   "outputs": [],
   "source": [
    "def RT(N, LAM):\n",
    "    CNg = scisp.gamma(2*N + 2.5)/scisp.gamma(2*N + 0.5)\n",
    "    CNf = 4 / (n + 1)\n",
    "    Rt = CNg * CNf * LAM\n",
    "    return(abs(Rt))"
   ]
  },
  {
   "cell_type": "code",
   "execution_count": 25,
   "metadata": {},
   "outputs": [
    {
     "name": "stderr",
     "output_type": "stream",
     "text": [
      "/Users/Kev/anaconda3/lib/python3.6/site-packages/ipykernel_launcher.py:2: RuntimeWarning: invalid value encountered in double_scalars\n",
      "  \n"
     ]
    }
   ],
   "source": [
    "Res = 10**(6)\n",
    "LamSp = np.linspace(1/Res, 1, Res)\n",
    "\n",
    "BrPtl = []\n",
    "BrPtn = []\n",
    "\n",
    "for n in range(0, 100):\n",
    "    for l in range(0, len(LamSp)-1):\n",
    "        if RT(n, LamSp[l]) > 1: \n",
    "            BrPtn.append(n)\n",
    "            BrPtl.append(LamSp[l])\n",
    "            break "
   ]
  },
  {
   "cell_type": "markdown",
   "metadata": {},
   "source": [
    "#### Array of $n$ values for various $\\lambda$ values where the perturbation theory falls apart:  "
   ]
  },
  {
   "cell_type": "code",
   "execution_count": 26,
   "metadata": {},
   "outputs": [
    {
     "name": "stdout",
     "output_type": "stream",
     "text": [
      "Breaking point:\n",
      "n = 0 : lambda ≈ 0.33333399999999996\n",
      "n = 1 : lambda ≈ 0.057143\n",
      "n = 2 : lambda ≈ 0.030304\n",
      "n = 3 : lambda ≈ 0.020513\n",
      "n = 4 : lambda ≈ 0.015479999999999999\n",
      "n = 5 : lambda ≈ 0.012422999999999998\n",
      "n = 6 : lambda ≈ 0.010370999999999998\n",
      "n = 7 : lambda ≈ 0.008898999999999999\n",
      "n = 8 : lambda ≈ 0.007793\n",
      "n = 9 : lambda ≈ 0.006931\n",
      "n = 10 : lambda ≈ 0.00624\n",
      "n = 11 : lambda ≈ 0.005674\n",
      "n = 12 : lambda ≈ 0.005203\n",
      "n = 13 : lambda ≈ 0.004803\n",
      "n = 14 : lambda ≈ 0.004461\n",
      "n = 15 : lambda ≈ 0.004164\n",
      "n = 16 : lambda ≈ 0.003904\n",
      "n = 17 : lambda ≈ 0.003675\n",
      "n = 18 : lambda ≈ 0.003471\n",
      "n = 19 : lambda ≈ 0.003288\n",
      "n = 20 : lambda ≈ 0.003124\n",
      "n = 21 : lambda ≈ 0.002975\n",
      "n = 22 : lambda ≈ 0.00284\n",
      "n = 23 : lambda ≈ 0.002717\n",
      "n = 24 : lambda ≈ 0.002604\n",
      "n = 25 : lambda ≈ 0.0025\n",
      "n = 26 : lambda ≈ 0.002404\n",
      "n = 27 : lambda ≈ 0.0023150000000000002\n",
      "n = 28 : lambda ≈ 0.002232\n",
      "n = 29 : lambda ≈ 0.0021550000000000002\n",
      "n = 30 : lambda ≈ 0.002083\n",
      "n = 31 : lambda ≈ 0.002016\n",
      "n = 32 : lambda ≈ 0.0019529999999999999\n",
      "n = 33 : lambda ≈ 0.0018939999999999999\n",
      "n = 34 : lambda ≈ 0.0018379999999999998\n",
      "n = 35 : lambda ≈ 0.0017859999999999998\n",
      "n = 36 : lambda ≈ 0.001736\n",
      "n = 37 : lambda ≈ 0.0016889999999999997\n",
      "n = 38 : lambda ≈ 0.0016449999999999998\n",
      "n = 39 : lambda ≈ 0.0016029999999999998\n",
      "n = 40 : lambda ≈ 0.001563\n",
      "n = 41 : lambda ≈ 0.0015249999999999999\n",
      "n = 42 : lambda ≈ 0.001488\n",
      "n = 43 : lambda ≈ 0.0014539999999999998\n",
      "n = 44 : lambda ≈ 0.001421\n",
      "n = 45 : lambda ≈ 0.0013889999999999998\n",
      "n = 46 : lambda ≈ 0.0013589999999999997\n",
      "n = 47 : lambda ≈ 0.0013299999999999998\n",
      "n = 48 : lambda ≈ 0.0013019999999999998\n",
      "n = 49 : lambda ≈ 0.0012759999999999998\n",
      "n = 50 : lambda ≈ 0.0012499999999999998\n",
      "n = 51 : lambda ≈ 0.0012259999999999999\n",
      "n = 52 : lambda ≈ 0.001202\n",
      "n = 53 : lambda ≈ 0.0011799999999999998\n",
      "n = 54 : lambda ≈ 0.001158\n",
      "n = 55 : lambda ≈ 0.0011369999999999998\n",
      "n = 56 : lambda ≈ 0.001117\n",
      "n = 57 : lambda ≈ 0.0010969999999999999\n",
      "n = 58 : lambda ≈ 0.001078\n",
      "n = 59 : lambda ≈ 0.00106\n",
      "n = 60 : lambda ≈ 0.001042\n",
      "n = 61 : lambda ≈ 0.0010249999999999999\n",
      "n = 62 : lambda ≈ 0.001009\n",
      "n = 63 : lambda ≈ 0.000993\n",
      "n = 64 : lambda ≈ 0.000977\n",
      "n = 65 : lambda ≈ 0.000962\n",
      "n = 66 : lambda ≈ 0.000947\n",
      "n = 67 : lambda ≈ 0.000933\n",
      "n = 68 : lambda ≈ 0.00092\n",
      "n = 69 : lambda ≈ 0.000906\n",
      "n = 70 : lambda ≈ 0.000893\n",
      "n = 71 : lambda ≈ 0.000881\n",
      "n = 72 : lambda ≈ 0.000869\n",
      "n = 73 : lambda ≈ 0.000857\n",
      "n = 74 : lambda ≈ 0.0008449999999999999\n",
      "n = 75 : lambda ≈ 0.000834\n",
      "n = 76 : lambda ≈ 0.000823\n",
      "n = 77 : lambda ≈ 0.000812\n",
      "n = 78 : lambda ≈ 0.000802\n",
      "n = 79 : lambda ≈ 0.000792\n",
      "n = 80 : lambda ≈ 0.000782\n",
      "n = 81 : lambda ≈ 0.000772\n",
      "n = 82 : lambda ≈ 0.000763\n",
      "n = 83 : lambda ≈ 0.000753\n",
      "n = 84 : lambda ≈ 0.000745\n"
     ]
    }
   ],
   "source": [
    "print('Breaking point:')\n",
    "for i in range(0, len(BrPtl)-1):\n",
    "    print('n =', BrPtn[i], ': lambda ≈', BrPtl[i])"
   ]
  },
  {
   "cell_type": "markdown",
   "metadata": {},
   "source": [
    "#### Plot of the order of $n$ where the perturbation theory falls appart with respect to $\\lambda$:"
   ]
  },
  {
   "cell_type": "code",
   "execution_count": 33,
   "metadata": {},
   "outputs": [
    {
     "data": {
      "image/png": "[encoded data removed]",
      "text/latex": [
       "$$\\left ( 0.0001, \\quad 1\\right )$$"
      ],
      "text/plain": [
       "(0.0001, 1)"
      ]
     },
     "execution_count": 33,
     "metadata": {},
     "output_type": "execute_result"
    },
    {
     "data": {
      "application/pdf": "[encoded data removed]",
      "text/plain": [
       "<Figure size 720x360 with 1 Axes>"
      ]
     },
     "metadata": {
      "needs_background": "light"
     },
     "output_type": "display_data"
    }
   ],
   "source": [
    "plt.figure(figsize=(10,5))\n",
    "ax = plt.gca()\n",
    "ax.scatter(BrPtn[:len(BrPtn)-1], BrPtl[:len(BrPtn)-1], s=4)\n",
    "ax.set_xlabel(r'$n$', fontsize = 14)\n",
    "ax.set_ylabel(r'$\\lambda$', fontsize = 14)\n",
    "ax.set_title(r'Order $(n)$ which the perturbation theory falls apart with respect to $\\lambda$', fontsize = 14)\n",
    "ax.xaxis.set_major_locator(MaxNLocator(integer=True))\n",
    "ax.set_yscale('log')\n",
    "ax.set_ylim(100/Res, 1)"
   ]
  },
  {
   "cell_type": "markdown",
   "metadata": {},
   "source": [
    "### f) The paragraph "
   ]
  },
  {
   "cell_type": "markdown",
   "metadata": {},
   "source": [
    "Lesson learned from this problem: As with not judging a book by its cover, we shouldn't judge a series on the size of its radius of convergence. Even if it does not exist. The series analyzed here diverges faster by including higher order terms, but it's accuracy for estimating smaller values of $\\lambda$ increases, even as the interval decreases. Therefore, we shouldn't throw a series out just because it is divergent, it still has its uses, albeit quite limited compared to a convergent series. "
   ]
  },
  {
   "cell_type": "code",
   "execution_count": null,
   "metadata": {},
   "outputs": [],
   "source": []
  }
 ],
 "metadata": {
  "kernelspec": {
   "display_name": "Python 3",
   "language": "python",
   "name": "python3"
  },
  "language_info": {
   "codemirror_mode": {
    "name": "ipython",
    "version": 3
   },
   "file_extension": ".py",
   "mimetype": "text/x-python",
   "name": "python",
   "nbconvert_exporter": "python",
   "pygments_lexer": "ipython3",
   "version": "3.7.0"
  },
  "latex_envs": {
   "LaTeX_envs_menu_present": true,
   "autoclose": false,
   "autocomplete": true,
   "bibliofile": "biblio.bib",
   "cite_by": "apalike",
   "current_citInitial": 1,
   "eqLabelWithNumbers": true,
   "eqNumInitial": 1,
   "hotkeys": {
    "equation": "Ctrl-E",
    "itemize": "Ctrl-I"
   },
   "labels_anchors": false,
   "latex_user_defs": false,
   "report_style_numbering": false,
   "user_envs_cfg": false
  },
  "toc": {
   "base_numbering": 1,
   "nav_menu": {},
   "number_sections": false,
   "sideBar": true,
   "skip_h1_title": false,
   "title_cell": "Table of Contents",
   "title_sidebar": "Contents",
   "toc_cell": false,
   "toc_position": {},
   "toc_section_display": true,
   "toc_window_display": false
  }
 },
 "nbformat": 4,
 "nbformat_minor": 2
}
