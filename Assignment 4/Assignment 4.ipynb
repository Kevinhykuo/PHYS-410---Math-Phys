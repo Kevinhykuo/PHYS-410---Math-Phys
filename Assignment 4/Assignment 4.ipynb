{
 "cells": [
  {
   "cell_type": "markdown",
   "metadata": {},
   "source": [
    "# Assignment 4"
   ]
  },
  {
   "cell_type": "code",
   "execution_count": 1,
   "metadata": {},
   "outputs": [],
   "source": [
    "import sympy as sym \n",
    "from sympy import Derivative, symbols, simplify, cos, sin\n",
    "from sympy.matrices import SparseMatrix\n",
    "from sympy.physics.mechanics import *\n",
    "from IPython.display import Math, display\n",
    "init_vprinting()"
   ]
  },
  {
   "cell_type": "code",
   "execution_count": 2,
   "metadata": {},
   "outputs": [],
   "source": [
    "r, t, x, y, V = symbols('r theta x y V')\n",
    "Vx, Vy, V_t, V_r = symbols(r'V^x V^y V^\\theta V^r', cls=sym.Function)"
   ]
  },
  {
   "cell_type": "markdown",
   "metadata": {},
   "source": [
    "## Basic Covariant Derivatives\n",
    "\n",
    "### c) $$\\nabla_{\\beta^\\prime} V^{\\alpha \\prime} = \\Lambda^{\\alpha^\\prime}_{\\; \\alpha} \\underline{\\Lambda^{\\beta}_{\\; \\beta^\\prime}} \\nabla_\\beta V^\\alpha$$\n",
    "\n",
    "Let's denote the primed indicies as components in polar coordinates, and non-primed indicies as components in Cartesian."
   ]
  },
  {
   "cell_type": "code",
   "execution_count": 3,
   "metadata": {},
   "outputs": [
    {
     "data": {
      "text/latex": [
       "$\\displaystyle \\Lambda^{\\alpha^\\prime}_{\\; \\alpha} = \\left[\\begin{matrix}\\cos{\\left (\\theta \\right )} & - r \\sin{\\left (\\theta \\right )}\\\\\\sin{\\left (\\theta \\right )} & r \\cos{\\left (\\theta \\right )}\\end{matrix}\\right]$"
      ],
      "text/plain": [
       "<IPython.core.display.Math object>"
      ]
     },
     "metadata": {},
     "output_type": "display_data"
    },
    {
     "name": "stdout",
     "output_type": "stream",
     "text": [
      "\n"
     ]
    },
    {
     "data": {
      "text/latex": [
       "$\\displaystyle \\underline{\\Lambda^{\\beta}_{\\; \\beta^\\prime}} = \\left[\\begin{matrix}\\cos{\\left (\\theta \\right )} & \\sin{\\left (\\theta \\right )}\\\\- \\frac{\\sin{\\left (\\theta \\right )}}{r} & \\frac{\\cos{\\left (\\theta \\right )}}{r}\\end{matrix}\\right]$"
      ],
      "text/plain": [
       "<IPython.core.display.Math object>"
      ]
     },
     "metadata": {},
     "output_type": "display_data"
    }
   ],
   "source": [
    "# Find the transformation matricies \n",
    "L = sym.Matrix([[cos(t), -r * sin(t)], [sin(t), r * cos(t)]])\n",
    "LAM = L\n",
    "LAMinv  = simplify(L ** -1)\n",
    "\n",
    "display(Math(r'\\Lambda^{\\alpha^\\prime}_{\\; \\alpha} = ' + sym.latex(LAM)))\n",
    "print('')\n",
    "display(Math(r'\\underline{\\Lambda^{\\beta}_{\\; \\beta^\\prime}} = ' + sym.latex(LAMinv)))"
   ]
  },
  {
   "cell_type": "code",
   "execution_count": 4,
   "metadata": {},
   "outputs": [
    {
     "data": {
      "text/latex": [
       "$\\displaystyle V^\\alpha = \\left[\\begin{matrix}V^{x}\\\\V^{y}\\end{matrix}\\right]= \\Lambda^{\\alpha}_{\\; \\alpha^\\prime} V^{\\alpha^\\prime}=\\left[\\begin{matrix}- r \\operatorname{V^{\\theta}}{\\left (r,\\theta \\right )} \\sin{\\left (\\theta \\right )} + \\operatorname{V^{r}}{\\left (r,\\theta \\right )} \\cos{\\left (\\theta \\right )}\\\\r \\operatorname{V^{\\theta}}{\\left (r,\\theta \\right )} \\cos{\\left (\\theta \\right )} + \\operatorname{V^{r}}{\\left (r,\\theta \\right )} \\sin{\\left (\\theta \\right )}\\end{matrix}\\right]$"
      ],
      "text/plain": [
       "<IPython.core.display.Math object>"
      ]
     },
     "metadata": {},
     "output_type": "display_data"
    },
    {
     "name": "stdout",
     "output_type": "stream",
     "text": [
      "\n"
     ]
    },
    {
     "data": {
      "text/latex": [
       "$\\displaystyle \\text{Where:}$"
      ],
      "text/plain": [
       "<IPython.core.display.Math object>"
      ]
     },
     "metadata": {},
     "output_type": "display_data"
    },
    {
     "name": "stdout",
     "output_type": "stream",
     "text": [
      "\n"
     ]
    },
    {
     "data": {
      "text/latex": [
       "$\\displaystyle V^{\\alpha^\\prime} = \\left[\\begin{matrix}\\operatorname{V^{r}}{\\left (r,\\theta \\right )}\\\\\\operatorname{V^{\\theta}}{\\left (r,\\theta \\right )}\\end{matrix}\\right]$"
      ],
      "text/plain": [
       "<IPython.core.display.Math object>"
      ]
     },
     "metadata": {},
     "output_type": "display_data"
    }
   ],
   "source": [
    "# Cartesian V in terms of polar V\n",
    "V_p = sym.Matrix([[V_r(r,t)], [V_t(r,t)]])\n",
    "V_c = sym.Matrix([LAM.row(i).dot(V_p) for i in range(2)])\n",
    "\n",
    "display(Math(r'V^\\alpha = ' + sym.latex(sym.Matrix([[V**x], [V**y]])) \\\n",
    "             + r'= \\Lambda^{\\alpha}_{\\; \\alpha^\\prime} V^{\\alpha^\\prime}'\\\n",
    "             + r'=' + sym.latex(V_c))) \n",
    "print('')\n",
    "display(Math(r'\\text{Where:}'))\n",
    "print('')\n",
    "display(Math(r'V^{\\alpha^\\prime} = ' + sym.latex(V_p)))"
   ]
  },
  {
   "cell_type": "code",
   "execution_count": 5,
   "metadata": {},
   "outputs": [
    {
     "data": {
      "text/latex": [
       "$\\displaystyle \\nabla_\\beta V^\\alpha = \\underline{\\Lambda^{\\beta}_{\\; \\beta^\\prime}} \\nabla_\\beta V^\\alpha =\\left[\\begin{matrix}\\left[\\begin{matrix}\\cos{\\left (\\theta \\right )} \\frac{\\partial}{\\partial r} \\left(- r \\operatorname{V^{\\theta}}{\\left (r,\\theta \\right )} \\sin{\\left (\\theta \\right )} + \\operatorname{V^{r}}{\\left (r,\\theta \\right )} \\cos{\\left (\\theta \\right )}\\right) - \\frac{\\sin{\\left (\\theta \\right )} \\frac{\\partial}{\\partial \\theta} \\left(- r \\operatorname{V^{\\theta}}{\\left (r,\\theta \\right )} \\sin{\\left (\\theta \\right )} + \\operatorname{V^{r}}{\\left (r,\\theta \\right )} \\cos{\\left (\\theta \\right )}\\right)}{r}\\\\\\sin{\\left (\\theta \\right )} \\frac{\\partial}{\\partial r} \\left(- r \\operatorname{V^{\\theta}}{\\left (r,\\theta \\right )} \\sin{\\left (\\theta \\right )} + \\operatorname{V^{r}}{\\left (r,\\theta \\right )} \\cos{\\left (\\theta \\right )}\\right) + \\frac{\\cos{\\left (\\theta \\right )} \\frac{\\partial}{\\partial \\theta} \\left(- r \\operatorname{V^{\\theta}}{\\left (r,\\theta \\right )} \\sin{\\left (\\theta \\right )} + \\operatorname{V^{r}}{\\left (r,\\theta \\right )} \\cos{\\left (\\theta \\right )}\\right)}{r}\\end{matrix}\\right]\\\\\\left[\\begin{matrix}\\cos{\\left (\\theta \\right )} \\frac{\\partial}{\\partial r} \\left(r \\operatorname{V^{\\theta}}{\\left (r,\\theta \\right )} \\cos{\\left (\\theta \\right )} + \\operatorname{V^{r}}{\\left (r,\\theta \\right )} \\sin{\\left (\\theta \\right )}\\right) - \\frac{\\sin{\\left (\\theta \\right )} \\frac{\\partial}{\\partial \\theta} \\left(r \\operatorname{V^{\\theta}}{\\left (r,\\theta \\right )} \\cos{\\left (\\theta \\right )} + \\operatorname{V^{r}}{\\left (r,\\theta \\right )} \\sin{\\left (\\theta \\right )}\\right)}{r}\\\\\\sin{\\left (\\theta \\right )} \\frac{\\partial}{\\partial r} \\left(r \\operatorname{V^{\\theta}}{\\left (r,\\theta \\right )} \\cos{\\left (\\theta \\right )} + \\operatorname{V^{r}}{\\left (r,\\theta \\right )} \\sin{\\left (\\theta \\right )}\\right) + \\frac{\\cos{\\left (\\theta \\right )} \\frac{\\partial}{\\partial \\theta} \\left(r \\operatorname{V^{\\theta}}{\\left (r,\\theta \\right )} \\cos{\\left (\\theta \\right )} + \\operatorname{V^{r}}{\\left (r,\\theta \\right )} \\sin{\\left (\\theta \\right )}\\right)}{r}\\end{matrix}\\right]\\end{matrix}\\right]$"
      ],
      "text/plain": [
       "<IPython.core.display.Math object>"
      ]
     },
     "metadata": {},
     "output_type": "display_data"
    },
    {
     "name": "stdout",
     "output_type": "stream",
     "text": [
      "\n"
     ]
    },
    {
     "data": {
      "text/latex": [
       "$\\displaystyle \\text{Where:}$"
      ],
      "text/plain": [
       "<IPython.core.display.Math object>"
      ]
     },
     "metadata": {},
     "output_type": "display_data"
    },
    {
     "name": "stdout",
     "output_type": "stream",
     "text": [
      "\n"
     ]
    },
    {
     "data": {
      "text/latex": [
       "$\\displaystyle \\nabla_x V^x= \\frac{\\partial V^x}{\\partial x} = \\cos{\\left (\\theta \\right )} \\frac{\\partial}{\\partial r} \\left(- r \\operatorname{V^{\\theta}}{\\left (r,\\theta \\right )} \\sin{\\left (\\theta \\right )} + \\operatorname{V^{r}}{\\left (r,\\theta \\right )} \\cos{\\left (\\theta \\right )}\\right) - \\frac{\\sin{\\left (\\theta \\right )} \\frac{\\partial}{\\partial \\theta} \\left(- r \\operatorname{V^{\\theta}}{\\left (r,\\theta \\right )} \\sin{\\left (\\theta \\right )} + \\operatorname{V^{r}}{\\left (r,\\theta \\right )} \\cos{\\left (\\theta \\right )}\\right)}{r}$"
      ],
      "text/plain": [
       "<IPython.core.display.Math object>"
      ]
     },
     "metadata": {},
     "output_type": "display_data"
    },
    {
     "name": "stdout",
     "output_type": "stream",
     "text": [
      "\n"
     ]
    },
    {
     "data": {
      "text/latex": [
       "$\\displaystyle \\nabla_y V^x= \\frac{\\partial V^x}{\\partial y} = \\sin{\\left (\\theta \\right )} \\frac{\\partial}{\\partial r} \\left(- r \\operatorname{V^{\\theta}}{\\left (r,\\theta \\right )} \\sin{\\left (\\theta \\right )} + \\operatorname{V^{r}}{\\left (r,\\theta \\right )} \\cos{\\left (\\theta \\right )}\\right) + \\frac{\\cos{\\left (\\theta \\right )} \\frac{\\partial}{\\partial \\theta} \\left(- r \\operatorname{V^{\\theta}}{\\left (r,\\theta \\right )} \\sin{\\left (\\theta \\right )} + \\operatorname{V^{r}}{\\left (r,\\theta \\right )} \\cos{\\left (\\theta \\right )}\\right)}{r}$"
      ],
      "text/plain": [
       "<IPython.core.display.Math object>"
      ]
     },
     "metadata": {},
     "output_type": "display_data"
    },
    {
     "name": "stdout",
     "output_type": "stream",
     "text": [
      "\n"
     ]
    },
    {
     "data": {
      "text/latex": [
       "$\\displaystyle \\nabla_x V^y= \\frac{\\partial V^y}{\\partial x} = \\cos{\\left (\\theta \\right )} \\frac{\\partial}{\\partial r} \\left(r \\operatorname{V^{\\theta}}{\\left (r,\\theta \\right )} \\cos{\\left (\\theta \\right )} + \\operatorname{V^{r}}{\\left (r,\\theta \\right )} \\sin{\\left (\\theta \\right )}\\right) - \\frac{\\sin{\\left (\\theta \\right )} \\frac{\\partial}{\\partial \\theta} \\left(r \\operatorname{V^{\\theta}}{\\left (r,\\theta \\right )} \\cos{\\left (\\theta \\right )} + \\operatorname{V^{r}}{\\left (r,\\theta \\right )} \\sin{\\left (\\theta \\right )}\\right)}{r}$"
      ],
      "text/plain": [
       "<IPython.core.display.Math object>"
      ]
     },
     "metadata": {},
     "output_type": "display_data"
    },
    {
     "name": "stdout",
     "output_type": "stream",
     "text": [
      "\n"
     ]
    },
    {
     "data": {
      "text/latex": [
       "$\\displaystyle \\nabla_y V^y= \\frac{\\partial V^y}{\\partial y} = \\sin{\\left (\\theta \\right )} \\frac{\\partial}{\\partial r} \\left(r \\operatorname{V^{\\theta}}{\\left (r,\\theta \\right )} \\cos{\\left (\\theta \\right )} + \\operatorname{V^{r}}{\\left (r,\\theta \\right )} \\sin{\\left (\\theta \\right )}\\right) + \\frac{\\cos{\\left (\\theta \\right )} \\frac{\\partial}{\\partial \\theta} \\left(r \\operatorname{V^{\\theta}}{\\left (r,\\theta \\right )} \\cos{\\left (\\theta \\right )} + \\operatorname{V^{r}}{\\left (r,\\theta \\right )} \\sin{\\left (\\theta \\right )}\\right)}{r}$"
      ],
      "text/plain": [
       "<IPython.core.display.Math object>"
      ]
     },
     "metadata": {},
     "output_type": "display_data"
    }
   ],
   "source": [
    "# Create a matrix of all the partials \n",
    "def d_p(Func):\n",
    "    derivatives = sym.Matrix([Derivative(Func, r), Derivative(Func, t)])\n",
    "    d_p = sym.Matrix([LAMinv.col(i).dot(derivatives).simplify() for i in range(2)])\n",
    "    return d_p\n",
    "\n",
    "partialV = sym.Matrix([[d_p(V_c[0])], [d_p(V_c[1])]])\n",
    "\n",
    "display(Math(r'\\nabla_\\beta V^\\alpha = \\underline{\\Lambda^{\\beta}_{\\; \\beta^\\prime}} \\nabla_\\beta V^\\alpha ='\\\n",
    "             + sym.latex(partialV)))\n",
    "print('')\n",
    "display(Math(r'\\text{Where:}'))\n",
    "print('')\n",
    "display(Math(r'\\nabla_x V^x= \\frac{\\partial V^x}{\\partial x} = ' + sym.latex(partialV[0][0])))\n",
    "print('')\n",
    "display(Math(r'\\nabla_y V^x= \\frac{\\partial V^x}{\\partial y} = ' + sym.latex(partialV[0][1])))\n",
    "print('')\n",
    "display(Math(r'\\nabla_x V^y= \\frac{\\partial V^y}{\\partial x} = ' + sym.latex(partialV[1][0])))\n",
    "print('')\n",
    "display(Math(r'\\nabla_y V^y= \\frac{\\partial V^y}{\\partial y} = ' + sym.latex(partialV[1][1])))"
   ]
  },
  {
   "cell_type": "markdown",
   "metadata": {},
   "source": [
    "## Now we sum up the components \n",
    "### $$\\nabla_{\\beta^\\prime} V^{\\alpha \\prime} = \\Lambda^{\\alpha^\\prime}_{\\; \\alpha} \\underline{\\Lambda^\\beta_{\\; \\beta^\\prime}} \\nabla_\\beta V^\\alpha$$\n",
    "\n",
    "$$\\nabla_{r} V^{r} = \\Lambda^{r}_{\\; \\alpha} \\underline{\\Lambda^\\beta_{\\; r}} \\nabla_\\beta V^\\alpha$$\n",
    "\n",
    "$$\\nabla_{r} V^{\\theta} = \\Lambda^{\\theta}_{\\; \\alpha} \\underline{\\Lambda^\\beta_{\\; r}} \\nabla_\\beta V^\\alpha$$\n",
    "\n",
    "$$\\nabla_{\\theta} V^{r} = \\Lambda^{r}_{\\; \\alpha} \\underline{\\Lambda^\\beta_{\\; \\theta}} \\nabla_\\beta V^\\alpha$$\n",
    "\n",
    "$$\\nabla_{\\theta} V^{\\theta} = \\Lambda^{\\theta}_{\\; \\alpha} \\underline{\\Lambda^\\beta_{\\; \\theta}} \\nabla_\\beta V^\\alpha$$"
   ]
  },
  {
   "cell_type": "code",
   "execution_count": 6,
   "metadata": {},
   "outputs": [
    {
     "data": {
      "text/latex": [
       "$\\displaystyle \\nabla_{\\beta^\\prime} V^{\\alpha^\\prime} = \\left[\\begin{matrix}\\frac{\\partial}{\\partial r} \\operatorname{V^{r}}{\\left (r,\\theta \\right )} & - r \\operatorname{V^{\\theta}}{\\left (r,\\theta \\right )} + \\frac{\\partial}{\\partial \\theta} \\operatorname{V^{r}}{\\left (r,\\theta \\right )}\\\\\\frac{\\partial}{\\partial r} \\operatorname{V^{\\theta}}{\\left (r,\\theta \\right )} + \\frac{\\operatorname{V^{\\theta}}{\\left (r,\\theta \\right )}}{r} & \\frac{\\partial}{\\partial \\theta} \\operatorname{V^{\\theta}}{\\left (r,\\theta \\right )} + \\frac{\\operatorname{V^{r}}{\\left (r,\\theta \\right )}}{r}\\end{matrix}\\right]$"
      ],
      "text/plain": [
       "<IPython.core.display.Math object>"
      ]
     },
     "metadata": {},
     "output_type": "display_data"
    },
    {
     "name": "stdout",
     "output_type": "stream",
     "text": [
      "\n"
     ]
    },
    {
     "data": {
      "text/latex": [
       "$\\displaystyle \\text{Therefore:}$"
      ],
      "text/plain": [
       "<IPython.core.display.Math object>"
      ]
     },
     "metadata": {},
     "output_type": "display_data"
    },
    {
     "data": {
      "text/latex": [
       "$\\displaystyle \\nabla_r V^r=\\frac{\\partial}{\\partial r} \\operatorname{V^{r}}{\\left (r,\\theta \\right )}$"
      ],
      "text/plain": [
       "<IPython.core.display.Math object>"
      ]
     },
     "metadata": {},
     "output_type": "display_data"
    },
    {
     "name": "stdout",
     "output_type": "stream",
     "text": [
      "\n"
     ]
    },
    {
     "data": {
      "text/latex": [
       "$\\displaystyle \\nabla_\\theta V^r=- r \\operatorname{V^{\\theta}}{\\left (r,\\theta \\right )} + \\frac{\\partial}{\\partial \\theta} \\operatorname{V^{r}}{\\left (r,\\theta \\right )}$"
      ],
      "text/plain": [
       "<IPython.core.display.Math object>"
      ]
     },
     "metadata": {},
     "output_type": "display_data"
    },
    {
     "name": "stdout",
     "output_type": "stream",
     "text": [
      "\n"
     ]
    },
    {
     "data": {
      "text/latex": [
       "$\\displaystyle \\nabla_r V^\\theta=\\frac{\\partial}{\\partial r} \\operatorname{V^{\\theta}}{\\left (r,\\theta \\right )} + \\frac{\\operatorname{V^{\\theta}}{\\left (r,\\theta \\right )}}{r}$"
      ],
      "text/plain": [
       "<IPython.core.display.Math object>"
      ]
     },
     "metadata": {},
     "output_type": "display_data"
    },
    {
     "name": "stdout",
     "output_type": "stream",
     "text": [
      "\n"
     ]
    },
    {
     "data": {
      "text/latex": [
       "$\\displaystyle \\nabla_\\theta V^\\theta=\\frac{\\partial}{\\partial \\theta} \\operatorname{V^{\\theta}}{\\left (r,\\theta \\right )} + \\frac{\\operatorname{V^{r}}{\\left (r,\\theta \\right )}}{r}$"
      ],
      "text/plain": [
       "<IPython.core.display.Math object>"
      ]
     },
     "metadata": {},
     "output_type": "display_data"
    }
   ],
   "source": [
    "# Find the covariant derivatives\n",
    "def gradV(i, j):\n",
    "    Components = 0\n",
    "    for m in range(2):\n",
    "        for n in range(2):\n",
    "             Components += LAM[m, j] * LAMinv[i, n] * partialV[n][m]\n",
    "    Components = Components.doit().simplify()\n",
    "    return Components \n",
    "\n",
    "GradV = sym.Matrix(2, 2, gradV)\n",
    "\n",
    "display(Math(r'\\nabla_{\\beta^\\prime} V^{\\alpha^\\prime} = ' + sym.latex(GradV)))\n",
    "print('')\n",
    "display(Math(r'\\text{Therefore:}'))\n",
    "display(Math(r'\\nabla_r V^r=' + sym.latex(GradV[0, 0])))\n",
    "print('')\n",
    "display(Math(r'\\nabla_\\theta V^r=' + sym.latex(GradV[0, 1])))\n",
    "print('')\n",
    "display(Math(r'\\nabla_r V^\\theta=' + sym.latex(GradV[1, 0])))\n",
    "print('')\n",
    "display(Math(r'\\nabla_\\theta V^\\theta=' + sym.latex(GradV[1, 1])))"
   ]
  },
  {
   "cell_type": "markdown",
   "metadata": {},
   "source": [
    "As we can see, this matches with what we got in part (b); therefore, $\\nabla_{\\beta^\\prime} V^{\\alpha \\prime}$ and $\\nabla_\\beta V^\\alpha$ is related by the transformation law of the compnents of a $(1, 1)$ tensor."
   ]
  },
  {
   "cell_type": "code",
   "execution_count": 7,
   "metadata": {},
   "outputs": [],
   "source": [
    "# Initiate backup plan do the summation 'by hand'\n",
    "# rr = (cos(t)**2 * partialV[0][0] + sin(t)**2 * partialV[1][1] + \\\n",
    "#       cos(t) * sin(t) * (partialV[0][1] + partialV[1][0])).doit().simplify()\n",
    "\n",
    "# rt = (-r * sin(t)**2 * partialV[1][0] + r * cos(t)**2 * partialV[0][1] + \\\n",
    "#       r * sin(t) * cos(t) * (partialV[1][1] - partialV[0][0])).doit().simplify()\n",
    "\n",
    "# tr = (cos(t) * sin(t)/r * (partialV[1][1] - partialV[0][0]) + cos(t)**2/r * partialV[1][0] - \\\n",
    "#       sin(t)**2/r * partialV[0][1]).doit().simplify()\n",
    "\n",
    "# tt =  (sin(t)**2 * partialV[0][0] + cos(t)**2 * partialV[1][1] - \\\n",
    "#        (cos(t) * sin(t)) * (partialV[1][0] + partialV[0][1])).doit().simplify()\n",
    "\n",
    "# display(Math(r'\\nabla_r V^r=' + sym.latex(rr)))\n",
    "# print('')\n",
    "# display(Math(r'\\nabla_\\theta V^r=' + sym.latex(rt)))\n",
    "# print('')\n",
    "# display(Math(r'\\nabla_r V^\\theta=' + sym.latex(tr)))\n",
    "# print('')\n",
    "# display(Math(r'\\nabla_\\theta V^\\theta=' + sym.latex(tt)))"
   ]
  }
 ],
 "metadata": {
  "kernelspec": {
   "display_name": "Python 3",
   "language": "python",
   "name": "python3"
  },
  "language_info": {
   "codemirror_mode": {
    "name": "ipython",
    "version": 3
   },
   "file_extension": ".py",
   "mimetype": "text/x-python",
   "name": "python",
   "nbconvert_exporter": "python",
   "pygments_lexer": "ipython3",
   "version": "3.7.2"
  }
 },
 "nbformat": 4,
 "nbformat_minor": 2
}
