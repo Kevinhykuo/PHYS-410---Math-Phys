{
 "cells": [
  {
   "cell_type": "markdown",
   "metadata": {},
   "source": [
    "# Assignment 4"
   ]
  },
  {
   "cell_type": "code",
   "execution_count": 1,
   "metadata": {},
   "outputs": [],
   "source": [
    "import sympy as sym \n",
    "import sympy.vector\n",
    "from sympy import Array, Derivative, symbols, simplify, cos, sin\n",
    "from sympy.matrices import SparseMatrix\n",
    "from sympy import tensorcontraction as Tc\n",
    "from sympy import tensorproduct as Tp\n",
    "from sympy.physics.mechanics import *\n",
    "from IPython.display import Math, display\n",
    "init_vprinting()"
   ]
  },
  {
   "cell_type": "markdown",
   "metadata": {},
   "source": [
    "## Basic Covariant Derivatives\n",
    "\n",
    "### c) $$\\nabla_{\\beta^\\prime} V^{\\alpha \\prime} = \\Lambda^{\\alpha^\\prime}_{\\alpha} \\underline{\\Lambda^\\beta_{\\beta^\\prime}} \\nabla_\\beta V^\\alpha$$\n",
    "\n",
    "Let's denote the primed indicies as components in polar coordinates, and non-primed indicies as components in Cartesian."
   ]
  },
  {
   "cell_type": "code",
   "execution_count": 2,
   "metadata": {},
   "outputs": [],
   "source": [
    "r, x, y, V, t, Lam = symbols('r x y V theta Lambda')\n",
    "Vx, Vy, V_t, V_r = symbols(r'V^x V^y V^\\theta V^r', cls=sym.Function)"
   ]
  },
  {
   "cell_type": "code",
   "execution_count": 3,
   "metadata": {},
   "outputs": [
    {
     "data": {
      "text/latex": [
       "$\\displaystyle \\Lambda^{\\alpha^\\prime}_\\alpha = \\left[\\begin{matrix}\\cos{\\left (\\theta \\right )} & - r \\sin{\\left (\\theta \\right )}\\\\\\sin{\\left (\\theta \\right )} & r \\cos{\\left (\\theta \\right )}\\end{matrix}\\right]$"
      ],
      "text/plain": [
       "<IPython.core.display.Math object>"
      ]
     },
     "metadata": {},
     "output_type": "display_data"
    },
    {
     "name": "stdout",
     "output_type": "stream",
     "text": [
      "\n"
     ]
    },
    {
     "data": {
      "text/latex": [
       "$\\displaystyle \\underline{\\Lambda^{\\beta}_{\\beta^\\prime}} = \\left[\\begin{matrix}\\cos{\\left (\\theta \\right )} & \\sin{\\left (\\theta \\right )}\\\\- \\frac{\\sin{\\left (\\theta \\right )}}{r} & \\frac{\\cos{\\left (\\theta \\right )}}{r}\\end{matrix}\\right]$"
      ],
      "text/plain": [
       "<IPython.core.display.Math object>"
      ]
     },
     "metadata": {},
     "output_type": "display_data"
    }
   ],
   "source": [
    "# Find the transformation matricies \n",
    "L = sym.Matrix([[cos(t), -r * sin(t)], [sin(t), r * cos(t)]])\n",
    "LAM = L\n",
    "LAMinv  = simplify(L ** -1)\n",
    "\n",
    "display(Math(r'\\Lambda^{\\alpha^\\prime}_\\alpha = ' + sym.latex(LAM)))\n",
    "print('')\n",
    "display(Math(r'\\underline{\\Lambda^{\\beta}_{\\beta^\\prime}} = ' + sym.latex(LAMinv)))"
   ]
  },
  {
   "cell_type": "code",
   "execution_count": 4,
   "metadata": {},
   "outputs": [
    {
     "data": {
      "text/latex": [
       "$\\displaystyle V^\\alpha = \\left[\\begin{matrix}V^{x}\\\\V^{y}\\end{matrix}\\right]=\\left[\\begin{matrix}- r \\operatorname{V^{\\theta}}{\\left (r,\\theta \\right )} \\sin{\\left (\\theta \\right )} + \\operatorname{V^{r}}{\\left (r,\\theta \\right )} \\cos{\\left (\\theta \\right )}\\\\r \\operatorname{V^{\\theta}}{\\left (r,\\theta \\right )} \\cos{\\left (\\theta \\right )} + \\operatorname{V^{r}}{\\left (r,\\theta \\right )} \\sin{\\left (\\theta \\right )}\\end{matrix}\\right]$"
      ],
      "text/plain": [
       "<IPython.core.display.Math object>"
      ]
     },
     "metadata": {},
     "output_type": "display_data"
    }
   ],
   "source": [
    "# Cartesian V in terms of polar V\n",
    "V_p = sym.Matrix([[V_r(r,t), V_t(r,t)]])\n",
    "\n",
    "# V_x = cos(theta)*V_r - r*sin(theta)*V_t\n",
    "# V_y = sin(theta)*V_r + r*cos(theta)*V_t\n",
    "V_c = sym.Matrix([LAM.row(i).dot(V_p) for i in range(2)])\n",
    "# display('V =', V_c)\n",
    "display(Math(r'V^\\alpha = ' + sym.latex(sym.Matrix([[V**x], [V**y]])) + r'=' + sym.latex(V_c))) "
   ]
  },
  {
   "cell_type": "code",
   "execution_count": 9,
   "metadata": {},
   "outputs": [
    {
     "data": {
      "text/latex": [
       "$\\displaystyle \\nabla_\\beta V^\\alpha = \\left[\\begin{matrix}\\left[\\begin{matrix}\\cos{\\left (\\theta \\right )} \\frac{\\partial}{\\partial r} \\left(- r \\operatorname{V^{\\theta}}{\\left (r,\\theta \\right )} \\sin{\\left (\\theta \\right )} + \\operatorname{V^{r}}{\\left (r,\\theta \\right )} \\cos{\\left (\\theta \\right )}\\right) - \\frac{\\sin{\\left (\\theta \\right )} \\frac{\\partial}{\\partial \\theta} \\left(- r \\operatorname{V^{\\theta}}{\\left (r,\\theta \\right )} \\sin{\\left (\\theta \\right )} + \\operatorname{V^{r}}{\\left (r,\\theta \\right )} \\cos{\\left (\\theta \\right )}\\right)}{r}\\\\\\sin{\\left (\\theta \\right )} \\frac{\\partial}{\\partial r} \\left(- r \\operatorname{V^{\\theta}}{\\left (r,\\theta \\right )} \\sin{\\left (\\theta \\right )} + \\operatorname{V^{r}}{\\left (r,\\theta \\right )} \\cos{\\left (\\theta \\right )}\\right) + \\frac{\\cos{\\left (\\theta \\right )} \\frac{\\partial}{\\partial \\theta} \\left(- r \\operatorname{V^{\\theta}}{\\left (r,\\theta \\right )} \\sin{\\left (\\theta \\right )} + \\operatorname{V^{r}}{\\left (r,\\theta \\right )} \\cos{\\left (\\theta \\right )}\\right)}{r}\\end{matrix}\\right]\\\\\\left[\\begin{matrix}\\cos{\\left (\\theta \\right )} \\frac{\\partial}{\\partial r} \\left(r \\operatorname{V^{\\theta}}{\\left (r,\\theta \\right )} \\cos{\\left (\\theta \\right )} + \\operatorname{V^{r}}{\\left (r,\\theta \\right )} \\sin{\\left (\\theta \\right )}\\right) - \\frac{\\sin{\\left (\\theta \\right )} \\frac{\\partial}{\\partial \\theta} \\left(r \\operatorname{V^{\\theta}}{\\left (r,\\theta \\right )} \\cos{\\left (\\theta \\right )} + \\operatorname{V^{r}}{\\left (r,\\theta \\right )} \\sin{\\left (\\theta \\right )}\\right)}{r}\\\\\\sin{\\left (\\theta \\right )} \\frac{\\partial}{\\partial r} \\left(r \\operatorname{V^{\\theta}}{\\left (r,\\theta \\right )} \\cos{\\left (\\theta \\right )} + \\operatorname{V^{r}}{\\left (r,\\theta \\right )} \\sin{\\left (\\theta \\right )}\\right) + \\frac{\\cos{\\left (\\theta \\right )} \\frac{\\partial}{\\partial \\theta} \\left(r \\operatorname{V^{\\theta}}{\\left (r,\\theta \\right )} \\cos{\\left (\\theta \\right )} + \\operatorname{V^{r}}{\\left (r,\\theta \\right )} \\sin{\\left (\\theta \\right )}\\right)}{r}\\end{matrix}\\right]\\end{matrix}\\right]$"
      ],
      "text/plain": [
       "<IPython.core.display.Math object>"
      ]
     },
     "metadata": {},
     "output_type": "display_data"
    }
   ],
   "source": [
    "# Create a matrix of all the partials \n",
    "def d_p(Func):\n",
    "    derivatives = sym.Matrix([[Derivative(Func, r).simplify(), Derivative(Func, t).simplify()]])\n",
    "    d_p = sym.Matrix([LAMinv.col(i).dot(derivatives).simplify() for i in range(2)])\n",
    "    return d_p\n",
    "\n",
    "partialV = sym.Matrix([[d_p(V_c[0])], [d_p(V_c[1])]])\n",
    "display(Math(r'\\nabla_\\beta V^\\alpha = ' + sym.latex(partialV)))"
   ]
  },
  {
   "cell_type": "markdown",
   "metadata": {},
   "source": [
    "## Now we sum up the components \n",
    "### $$\\nabla_{\\beta^\\prime} V^{\\alpha \\prime} = \\Lambda^{\\alpha^\\prime}_{\\alpha} \\underline{\\Lambda^\\beta_{\\beta^\\prime}} \\nabla_\\beta V^\\alpha$$\n",
    "\n",
    "$$\\nabla_{r} V^{r} = \\Lambda^{r}_{\\alpha} \\underline{\\Lambda^\\beta_{r}} \\nabla_\\beta V^\\alpha$$\n",
    "\n",
    "$$\\nabla_{r} V^{\\theta} = \\Lambda^{\\theta}_{\\alpha} \\underline{\\Lambda^\\beta_{r}} \\nabla_\\beta V^\\alpha$$\n",
    "\n",
    "$$\\nabla_{\\theta} V^{r} = \\Lambda^{r}_{\\alpha} \\underline{\\Lambda^\\beta_{\\theta}} \\nabla_\\beta V^\\alpha$$\n",
    "\n",
    "$$\\nabla_{\\theta} V^{\\theta} = \\Lambda^{\\theta}_{\\alpha} \\underline{\\Lambda^\\beta_{\\theta}} \\nabla_\\beta V^\\alpha$$"
   ]
  },
  {
   "cell_type": "code",
   "execution_count": 6,
   "metadata": {},
   "outputs": [],
   "source": [
    "# Find the covariant derivatives\n",
    "# def gradV(i, j):\n",
    "#     Gb = sym.Matrix([])\n",
    "#     for m in range(2):\n",
    "#         for n in range(2):\n",
    "#              Gb += LAM[i, n] * LAMinv[m, j] * partialV[n][m]\n",
    "\n",
    "# GradV = sym.Matrix(2, 2, gradV)\n",
    "\n",
    "# for i in range(1):\n",
    "#     for j in range(1):\n",
    "#         for m in range(1):\n",
    "#             for n in range(1):\n",
    "#                 gradV[i, j] += LAM[i, n] * LAMinv[m, j] * partialV[n, m]\n",
    "            "
   ]
  },
  {
   "cell_type": "code",
   "execution_count": 8,
   "metadata": {},
   "outputs": [
    {
     "data": {
      "text/latex": [
       "$\\displaystyle \\nabla_rV^r=\\frac{\\partial}{\\partial r} \\operatorname{V^{r}}{\\left (r,\\theta \\right )}$"
      ],
      "text/plain": [
       "<IPython.core.display.Math object>"
      ]
     },
     "metadata": {},
     "output_type": "display_data"
    },
    {
     "name": "stdout",
     "output_type": "stream",
     "text": [
      "\n"
     ]
    },
    {
     "data": {
      "text/latex": [
       "$\\displaystyle \\nabla_\\theta V^r=- r \\operatorname{V^{\\theta}}{\\left (r,\\theta \\right )} + \\frac{\\partial}{\\partial \\theta} \\operatorname{V^{r}}{\\left (r,\\theta \\right )}$"
      ],
      "text/plain": [
       "<IPython.core.display.Math object>"
      ]
     },
     "metadata": {},
     "output_type": "display_data"
    },
    {
     "name": "stdout",
     "output_type": "stream",
     "text": [
      "\n"
     ]
    },
    {
     "data": {
      "text/latex": [
       "$\\displaystyle \\nabla_rV^\\theta=\\frac{\\partial}{\\partial r} \\operatorname{V^{\\theta}}{\\left (r,\\theta \\right )} + \\frac{\\operatorname{V^{\\theta}}{\\left (r,\\theta \\right )}}{r}$"
      ],
      "text/plain": [
       "<IPython.core.display.Math object>"
      ]
     },
     "metadata": {},
     "output_type": "display_data"
    },
    {
     "name": "stdout",
     "output_type": "stream",
     "text": [
      "\n"
     ]
    },
    {
     "data": {
      "text/latex": [
       "$\\displaystyle \\nabla_\\theta V^\\theta=\\frac{\\partial}{\\partial \\theta} \\operatorname{V^{\\theta}}{\\left (r,\\theta \\right )} + \\frac{\\operatorname{V^{r}}{\\left (r,\\theta \\right )}}{r}$"
      ],
      "text/plain": [
       "<IPython.core.display.Math object>"
      ]
     },
     "metadata": {},
     "output_type": "display_data"
    }
   ],
   "source": [
    "# Initiate backup plan do the summation 'by hand'\n",
    "rr = (cos(t)**2 * partialV[0][0] + sin(t)**2 * partialV[1][1] + \\\n",
    "      cos(t) * sin(t) * (partialV[0][1] + partialV[1][0])).doit().simplify()\n",
    "\n",
    "rt = (-r * sin(t)**2 * partialV[1][0] + r * cos(t)**2 * partialV[0][1] + \\\n",
    "      r * sin(t) * cos(t) * (partialV[1][1] - partialV[0][0])).doit().simplify()\n",
    "\n",
    "tr = (cos(t) * sin(t)/r * (partialV[1][1] - partialV[0][0]) + cos(t)**2/r * partialV[1][0] - \\\n",
    "      sin(t)**2/r * partialV[0][1]).doit().simplify()\n",
    "\n",
    "tt =  (sin(t)**2 * partialV[0][0] + cos(t)**2 * partialV[1][1] - \\\n",
    "       (cos(t) * sin(t)) * (partialV[1][0] + partialV[0][1])).doit().simplify()\n",
    "\n",
    "display(Math(r'\\nabla_rV^r=' + sym.latex(rr)))\n",
    "print('')\n",
    "display(Math(r'\\nabla_\\theta V^r=' + sym.latex(rt)))\n",
    "print('')\n",
    "display(Math(r'\\nabla_rV^\\theta=' + sym.latex(tr)))\n",
    "print('')\n",
    "display(Math(r'\\nabla_\\theta V^\\theta=' + sym.latex(tt)))"
   ]
  },
  {
   "cell_type": "markdown",
   "metadata": {},
   "source": [
    "As we can see, this matches with what we got in part (b) "
   ]
  },
  {
   "cell_type": "code",
   "execution_count": null,
   "metadata": {},
   "outputs": [],
   "source": []
  }
 ],
 "metadata": {
  "kernelspec": {
   "display_name": "Python 3",
   "language": "python",
   "name": "python3"
  },
  "language_info": {
   "codemirror_mode": {
    "name": "ipython",
    "version": 3
   },
   "file_extension": ".py",
   "mimetype": "text/x-python",
   "name": "python",
   "nbconvert_exporter": "python",
   "pygments_lexer": "ipython3",
   "version": "3.7.1"
  }
 },
 "nbformat": 4,
 "nbformat_minor": 2
}
